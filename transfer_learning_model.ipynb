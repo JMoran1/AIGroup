{
 "cells": [
  {
   "cell_type": "code",
   "execution_count": 1,
   "metadata": {},
   "outputs": [],
   "source": [
    "import tensorflow as tf\n",
    "import keras\n",
    "import keras_vggface\n",
    "from keras_vggface.vggface import VGGFace\n",
    "# Had to change code in keras vggface to make it work changed model.py line 20 as shown here https://stackoverflow.com/a/71379206\n",
    "import numpy as np\n",
    "import matplotlib as mpl\n",
    "from keras.utils.data_utils import get_file\n",
    "import keras_vggface.utils\n",
    "import PIL\n",
    "import os\n",
    "import os.path\n",
    "import matplotlib.pyplot as plt"
   ]
  },
  {
   "cell_type": "code",
   "execution_count": 14,
   "metadata": {},
   "outputs": [
    {
     "name": "stdout",
     "output_type": "stream",
     "text": [
      "Found 300 files belonging to 4 classes.\n",
      "Using 240 files for training.\n",
      "Found 300 files belonging to 4 classes.\n",
      "Using 60 files for validation.\n"
     ]
    }
   ],
   "source": [
    "train_seed = 42\n",
    "split = 0.2\n",
    "\n",
    "train_dataset = keras.utils.image_dataset_from_directory('./Faces', shuffle=True, image_size=(224, 224), batch_size=8, seed=train_seed, validation_split=split, subset='training')\n",
    "val_dataset = keras.utils.image_dataset_from_directory('./Faces', shuffle=True, image_size=(224, 224), batch_size=8, seed=train_seed, validation_split=split, subset='validation')"
   ]
  },
  {
   "cell_type": "code",
   "execution_count": 15,
   "metadata": {},
   "outputs": [],
   "source": [
    "data_augmentation = keras.Sequential([\n",
    "    keras.layers.RandomFlip(\"horizontal\"),\n",
    "    keras.layers.RandomRotation(0.2), ])"
   ]
  },
  {
   "cell_type": "code",
   "execution_count": 16,
   "metadata": {},
   "outputs": [],
   "source": [
    "resnet_base = VGGFace(model='resnet50', include_top=False, input_shape=(224, 224, 3))"
   ]
  },
  {
   "cell_type": "code",
   "execution_count": 24,
   "metadata": {},
   "outputs": [],
   "source": [
    "from keras.layers import Dense, Flatten, Input\n",
    "from keras_vggface.vggface import VGGFace\n",
    "\n",
    "num_classes = 4\n",
    "\n",
    "resnet_base.trainable = False\n",
    "last_layer = resnet_base.get_layer('avg_pool').output\n",
    "\n",
    "inputs = tf.keras.Input(shape=(224, 224, 3))\n",
    "\n",
    "x = data_augmentation(inputs)\n",
    "x = resnet_base(x)\n",
    "x = Flatten(name='flatten')(x)\n",
    "\n",
    "out = Dense(num_classes, name='classifier')(x)\n",
    "\n",
    "custom_resnet_model = keras.Model(inputs, out)"
   ]
  },
  {
   "cell_type": "code",
   "execution_count": 18,
   "metadata": {},
   "outputs": [],
   "source": [
    "LR = 0.0001\n",
    "\n",
    "custom_resnet_model.compile(optimizer=tf.keras.optimizers.Adam(learning_rate=LR),\n",
    "    loss = keras.losses.SparseCategoricalCrossentropy(from_logits=True),\n",
    "    metrics=['accuracy'])"
   ]
  },
  {
   "cell_type": "code",
   "execution_count": 30,
   "metadata": {},
   "outputs": [
    {
     "name": "stdout",
     "output_type": "stream",
     "text": [
      "Epoch 1/20\n",
      "15/15 [==============================] - 3s 182ms/step - loss: 9.4321 - accuracy: 0.3167 - val_loss: 10.8463 - val_accuracy: 0.1833\n",
      "Epoch 2/20\n",
      "15/15 [==============================] - 3s 181ms/step - loss: 9.4521 - accuracy: 0.2708 - val_loss: 10.9822 - val_accuracy: 0.1833\n",
      "Epoch 3/20\n",
      "15/15 [==============================] - 3s 182ms/step - loss: 9.8964 - accuracy: 0.3000 - val_loss: 10.7836 - val_accuracy: 0.1833\n",
      "Epoch 4/20\n",
      "15/15 [==============================] - 3s 181ms/step - loss: 9.4963 - accuracy: 0.3125 - val_loss: 10.7804 - val_accuracy: 0.1833\n",
      "Epoch 5/20\n",
      "15/15 [==============================] - 3s 181ms/step - loss: 8.8606 - accuracy: 0.2833 - val_loss: 10.9468 - val_accuracy: 0.1833\n",
      "Epoch 6/20\n",
      "15/15 [==============================] - 3s 181ms/step - loss: 9.6206 - accuracy: 0.2625 - val_loss: 11.0284 - val_accuracy: 0.1833\n",
      "Epoch 7/20\n",
      "15/15 [==============================] - 3s 181ms/step - loss: 9.2197 - accuracy: 0.3083 - val_loss: 10.6237 - val_accuracy: 0.1833\n",
      "Epoch 8/20\n",
      "15/15 [==============================] - 3s 180ms/step - loss: 9.2743 - accuracy: 0.2917 - val_loss: 10.7163 - val_accuracy: 0.1833\n",
      "Epoch 9/20\n",
      "15/15 [==============================] - 3s 180ms/step - loss: 9.7240 - accuracy: 0.2583 - val_loss: 10.8442 - val_accuracy: 0.2000\n",
      "Epoch 10/20\n",
      "15/15 [==============================] - 3s 181ms/step - loss: 9.2343 - accuracy: 0.2875 - val_loss: 11.2186 - val_accuracy: 0.2000\n",
      "Epoch 11/20\n",
      "15/15 [==============================] - 3s 181ms/step - loss: 9.8216 - accuracy: 0.2708 - val_loss: 11.1965 - val_accuracy: 0.2000\n",
      "Epoch 12/20\n",
      "15/15 [==============================] - 3s 182ms/step - loss: 8.7909 - accuracy: 0.3083 - val_loss: 11.2056 - val_accuracy: 0.2167\n",
      "Epoch 13/20\n",
      "15/15 [==============================] - 3s 182ms/step - loss: 8.9898 - accuracy: 0.3083 - val_loss: 11.3337 - val_accuracy: 0.2167\n",
      "Epoch 14/20\n",
      "15/15 [==============================] - 3s 182ms/step - loss: 9.0393 - accuracy: 0.2917 - val_loss: 11.2767 - val_accuracy: 0.2333\n",
      "Epoch 15/20\n",
      "15/15 [==============================] - 3s 180ms/step - loss: 8.9823 - accuracy: 0.2917 - val_loss: 11.3106 - val_accuracy: 0.2333\n",
      "Epoch 16/20\n",
      "15/15 [==============================] - 3s 182ms/step - loss: 9.9201 - accuracy: 0.2750 - val_loss: 11.4356 - val_accuracy: 0.2333\n",
      "Epoch 17/20\n",
      "15/15 [==============================] - 3s 181ms/step - loss: 9.4014 - accuracy: 0.2833 - val_loss: 11.1814 - val_accuracy: 0.2333\n",
      "Epoch 18/20\n",
      "15/15 [==============================] - 3s 183ms/step - loss: 8.7849 - accuracy: 0.2958 - val_loss: 11.1069 - val_accuracy: 0.2333\n",
      "Epoch 19/20\n",
      "15/15 [==============================] - 3s 181ms/step - loss: 8.6691 - accuracy: 0.3083 - val_loss: 11.2386 - val_accuracy: 0.2333\n",
      "Epoch 20/20\n",
      "15/15 [==============================] - 3s 182ms/step - loss: 8.1831 - accuracy: 0.3083 - val_loss: 11.1688 - val_accuracy: 0.2333\n"
     ]
    }
   ],
   "source": [
    "base_history = custom_resnet_model.fit(train_dataset, epochs=20, validation_data=val_dataset)"
   ]
  },
  {
   "cell_type": "code",
   "execution_count": null,
   "metadata": {},
   "outputs": [],
   "source": [
    "# plot the history and loss\n",
    "plt.plot(base_history.history['accuracy'], label='accuracy')\n",
    "plt.plot(base_history.history['val_accuracy'], label='val_accuracy')\n",
    "plt.plot(base_history.history['loss'], label='loss')\n",
    "plt.show()"
   ]
  },
  {
   "attachments": {},
   "cell_type": "markdown",
   "metadata": {},
   "source": [
    "# Privacy"
   ]
  },
  {
   "cell_type": "code",
   "execution_count": 20,
   "metadata": {},
   "outputs": [],
   "source": [
    "from tensorflow_privacy.privacy.optimizers.dp_optimizer import DPGradientDescentGaussianOptimizer\n",
    "import tensorflow_privacy"
   ]
  },
  {
   "cell_type": "code",
   "execution_count": 21,
   "metadata": {},
   "outputs": [
    {
     "name": "stdout",
     "output_type": "stream",
     "text": [
      "Found 300 files belonging to 4 classes.\n",
      "Using 240 files for training.\n",
      "Found 300 files belonging to 4 classes.\n",
      "Using 60 files for validation.\n"
     ]
    }
   ],
   "source": [
    "train_dataset = keras.utils.image_dataset_from_directory('./Faces', shuffle=True, image_size=(224, 224), batch_size=16, seed=train_seed, validation_split=split, subset='training')\n",
    "val_dataset = keras.utils.image_dataset_from_directory('./Faces', shuffle=True, image_size=(224, 224), batch_size=16, seed=train_seed, validation_split=split, subset='validation')"
   ]
  },
  {
   "cell_type": "code",
   "execution_count": 22,
   "metadata": {},
   "outputs": [],
   "source": [
    "loss = tf.keras.losses.SparseCategoricalCrossentropy(\n",
    "    from_logits=False, reduction=tf.losses.Reduction.NONE)"
   ]
  },
  {
   "cell_type": "code",
   "execution_count": 23,
   "metadata": {},
   "outputs": [],
   "source": [
    "noise_multiplier = 1.1\n",
    "l2_norm_clip = 5\n",
    "num_microbatches = 16\n",
    "learning_rate = 0.0001\n",
    "\n",
    "# optimizer = tensorflow_privacy.DPKerasSGDOptimizer(\n",
    "#     l2_norm_clip=l2_norm_clip,\n",
    "#     noise_multiplier=noise_multiplier,\n",
    "#     num_microbatches=num_microbatches,\n",
    "#     learning_rate=learning_rate\n",
    "# )\n",
    "\n",
    "optimizer = tensorflow_privacy.DPKerasAdamOptimizer(\n",
    "    l2_norm_clip=l2_norm_clip,\n",
    "    noise_multiplier=noise_multiplier,\n",
    "    num_microbatches=num_microbatches,\n",
    "    learning_rate=learning_rate\n",
    ")"
   ]
  },
  {
   "cell_type": "code",
   "execution_count": 25,
   "metadata": {},
   "outputs": [],
   "source": [
    "LR = 0.0001\n",
    "\n",
    "custom_resnet_model.compile(optimizer=optimizer,\n",
    "    loss = loss,\n",
    "    metrics=['accuracy'])"
   ]
  },
  {
   "cell_type": "code",
   "execution_count": 26,
   "metadata": {},
   "outputs": [
    {
     "name": "stdout",
     "output_type": "stream",
     "text": [
      "Epoch 1/20\n",
      "WARNING:tensorflow:Using a while_loop for converting RngReadAndSkip cause there is no registered converter for this op.\n",
      "WARNING:tensorflow:Using a while_loop for converting Bitcast cause there is no registered converter for this op.\n",
      "WARNING:tensorflow:Using a while_loop for converting Bitcast cause there is no registered converter for this op.\n",
      "WARNING:tensorflow:Using a while_loop for converting StatelessRandomUniformV2 cause there is no registered converter for this op.\n",
      "WARNING:tensorflow:Using a while_loop for converting ImageProjectiveTransformV3 cause there is no registered converter for this op.\n",
      "WARNING:tensorflow:Using a while_loop for converting RngReadAndSkip cause there is no registered converter for this op.\n",
      "WARNING:tensorflow:Using a while_loop for converting Bitcast cause there is no registered converter for this op.\n",
      "WARNING:tensorflow:Using a while_loop for converting Bitcast cause there is no registered converter for this op.\n",
      "WARNING:tensorflow:Using a while_loop for converting StatelessRandomUniformV2 cause there is no registered converter for this op.\n",
      "WARNING:tensorflow:Using a while_loop for converting ImageProjectiveTransformV3 cause there is no registered converter for this op.\n"
     ]
    },
    {
     "name": "stderr",
     "output_type": "stream",
     "text": [
      "2023-05-03 15:09:33.112748: I tensorflow/core/grappler/optimizers/custom_graph_optimizer_registry.cc:114] Plugin optimizer for device_type GPU is enabled.\n"
     ]
    },
    {
     "name": "stdout",
     "output_type": "stream",
     "text": [
      "15/15 [==============================] - ETA: 0s - loss: 8.7016 - accuracy: 0.1458"
     ]
    },
    {
     "name": "stderr",
     "output_type": "stream",
     "text": [
      "2023-05-03 15:09:36.981874: I tensorflow/core/grappler/optimizers/custom_graph_optimizer_registry.cc:114] Plugin optimizer for device_type GPU is enabled.\n"
     ]
    },
    {
     "name": "stdout",
     "output_type": "stream",
     "text": [
      "15/15 [==============================] - 7s 269ms/step - loss: 8.7016 - accuracy: 0.1458 - val_loss: 10.7517 - val_accuracy: 0.0500\n",
      "Epoch 2/20\n",
      "15/15 [==============================] - 3s 187ms/step - loss: 9.9877 - accuracy: 0.1125 - val_loss: 10.4832 - val_accuracy: 0.0833\n",
      "Epoch 3/20\n",
      "15/15 [==============================] - 3s 183ms/step - loss: 9.2462 - accuracy: 0.1292 - val_loss: 10.6463 - val_accuracy: 0.0833\n",
      "Epoch 4/20\n",
      "15/15 [==============================] - 3s 182ms/step - loss: 9.2621 - accuracy: 0.2042 - val_loss: 10.9009 - val_accuracy: 0.1000\n",
      "Epoch 5/20\n",
      "15/15 [==============================] - 3s 183ms/step - loss: 8.2397 - accuracy: 0.2333 - val_loss: 10.7036 - val_accuracy: 0.1333\n",
      "Epoch 6/20\n",
      "15/15 [==============================] - 3s 182ms/step - loss: 8.7387 - accuracy: 0.2167 - val_loss: 10.7119 - val_accuracy: 0.1333\n",
      "Epoch 7/20\n",
      "15/15 [==============================] - 3s 180ms/step - loss: 8.3267 - accuracy: 0.2250 - val_loss: 10.1563 - val_accuracy: 0.1500\n",
      "Epoch 8/20\n",
      "15/15 [==============================] - 3s 181ms/step - loss: 8.6882 - accuracy: 0.3000 - val_loss: 10.2228 - val_accuracy: 0.1500\n",
      "Epoch 9/20\n",
      "15/15 [==============================] - 3s 182ms/step - loss: 8.7512 - accuracy: 0.2375 - val_loss: 10.3167 - val_accuracy: 0.1500\n",
      "Epoch 10/20\n",
      "15/15 [==============================] - 3s 181ms/step - loss: 8.2157 - accuracy: 0.2875 - val_loss: 10.2006 - val_accuracy: 0.1500\n",
      "Epoch 11/20\n",
      "15/15 [==============================] - 3s 181ms/step - loss: 9.2207 - accuracy: 0.2792 - val_loss: 9.9484 - val_accuracy: 0.1667\n",
      "Epoch 12/20\n",
      "15/15 [==============================] - 3s 182ms/step - loss: 9.0767 - accuracy: 0.2917 - val_loss: 10.2120 - val_accuracy: 0.1833\n",
      "Epoch 13/20\n",
      "15/15 [==============================] - 3s 185ms/step - loss: 9.8111 - accuracy: 0.2583 - val_loss: 10.3267 - val_accuracy: 0.1833\n",
      "Epoch 14/20\n",
      "15/15 [==============================] - 3s 181ms/step - loss: 9.2268 - accuracy: 0.2792 - val_loss: 10.0584 - val_accuracy: 0.1833\n",
      "Epoch 15/20\n",
      "15/15 [==============================] - 3s 182ms/step - loss: 9.4095 - accuracy: 0.2792 - val_loss: 10.5417 - val_accuracy: 0.1833\n",
      "Epoch 16/20\n",
      "15/15 [==============================] - 3s 183ms/step - loss: 9.6228 - accuracy: 0.2667 - val_loss: 10.6073 - val_accuracy: 0.2000\n",
      "Epoch 17/20\n",
      "15/15 [==============================] - 3s 181ms/step - loss: 9.0740 - accuracy: 0.2833 - val_loss: 10.5807 - val_accuracy: 0.2000\n",
      "Epoch 18/20\n",
      "15/15 [==============================] - 3s 182ms/step - loss: 9.3298 - accuracy: 0.3375 - val_loss: 10.7424 - val_accuracy: 0.2000\n",
      "Epoch 19/20\n",
      "15/15 [==============================] - 3s 182ms/step - loss: 9.7074 - accuracy: 0.2875 - val_loss: 10.8946 - val_accuracy: 0.2000\n",
      "Epoch 20/20\n",
      "15/15 [==============================] - 3s 180ms/step - loss: 9.7933 - accuracy: 0.3083 - val_loss: 10.8503 - val_accuracy: 0.1833\n"
     ]
    }
   ],
   "source": [
    "history = custom_resnet_model.fit(train_dataset, epochs=20, validation_data=val_dataset)"
   ]
  },
  {
   "cell_type": "code",
   "execution_count": 29,
   "metadata": {},
   "outputs": [
    {
     "data": {
      "image/png": "[encoded data removed]",
      "text/plain": [
       "<Figure size 640x480 with 1 Axes>"
      ]
     },
     "metadata": {},
     "output_type": "display_data"
    }
   ],
   "source": [
    "\n",
    "plt.plot(history.history['accuracy'], label='accuracy')\n",
    "plt.plot(history.history['val_accuracy'], label='val_accuracy')\n",
    "\n",
    "plt.title(\"Accuracy vs Validation Accuracy\")\n",
    "plt.xlabel(\"Epochs\")\n",
    "plt.ylabel(\"Accuracy\")\n",
    "plt.legend()\n",
    "plt.show()"
   ]
  }
 ],
 "metadata": {
  "kernelspec": {
   "display_name": "AI310",
   "language": "python",
   "name": "python3"
  },
  "language_info": {
   "codemirror_mode": {
    "name": "ipython",
    "version": 3
   },
   "file_extension": ".py",
   "mimetype": "text/x-python",
   "name": "python",
   "nbconvert_exporter": "python",
   "pygments_lexer": "ipython3",
   "version": "3.10.10"
  },
  "orig_nbformat": 4
 },
 "nbformat": 4,
 "nbformat_minor": 2
}
