{
 "cells": [
  {
   "cell_type": "code",
   "execution_count": 38,
   "metadata": {},
   "outputs": [],
   "source": [
    "import tensorflow as tf\n",
    "import keras\n",
    "import keras_vggface\n",
    "from keras_vggface.vggface import VGGFace\n",
    "# Had to change code in keras vggface to make it work changed model.py line 20 as shown here https://stackoverflow.com/a/71379206\n",
    "import numpy as np\n",
    "import matplotlib as mpl\n",
    "from keras.utils.data_utils import get_file\n",
    "import keras_vggface.utils\n",
    "import PIL\n",
    "import os\n",
    "import os.path\n",
    "import matplotlib.pyplot as plt"
   ]
  },
  {
   "cell_type": "code",
   "execution_count": 14,
   "metadata": {},
   "outputs": [
    {
     "name": "stdout",
     "output_type": "stream",
     "text": [
      "Found 300 files belonging to 4 classes.\n",
      "Using 240 files for training.\n",
      "Found 300 files belonging to 4 classes.\n",
      "Using 60 files for validation.\n"
     ]
    }
   ],
   "source": [
    "train_seed = 42\n",
    "split = 0.2\n",
    "\n",
    "train_dataset = keras.utils.image_dataset_from_directory('./Faces', shuffle=True, image_size=(224, 224), batch_size=8, seed=train_seed, validation_split=split, subset='training')\n",
    "val_dataset = keras.utils.image_dataset_from_directory('./Faces', shuffle=True, image_size=(224, 224), batch_size=8, seed=train_seed, validation_split=split, subset='validation')"
   ]
  },
  {
   "cell_type": "code",
   "execution_count": 15,
   "metadata": {},
   "outputs": [],
   "source": [
    "data_augmentation = keras.Sequential([\n",
    "    keras.layers.RandomFlip(\"horizontal\"),\n",
    "    keras.layers.RandomRotation(0.2), ])"
   ]
  },
  {
   "cell_type": "code",
   "execution_count": 33,
   "metadata": {},
   "outputs": [],
   "source": [
    "resnet_base = VGGFace(model='resnet50', include_top=False, input_shape=(224, 224, 3))"
   ]
  },
  {
   "cell_type": "code",
   "execution_count": 34,
   "metadata": {},
   "outputs": [],
   "source": [
    "from keras.layers import Dense, Flatten, Input\n",
    "from keras_vggface.vggface import VGGFace\n",
    "\n",
    "num_classes = 4\n",
    "\n",
    "resnet_base.trainable = False\n",
    "last_layer = resnet_base.get_layer('avg_pool').output\n",
    "\n",
    "inputs = tf.keras.Input(shape=(224, 224, 3))\n",
    "\n",
    "x = data_augmentation(inputs)\n",
    "x = resnet_base(x)\n",
    "x = Flatten(name='flatten')(x)\n",
    "\n",
    "out = Dense(num_classes, name='classifier')(x)\n",
    "\n",
    "custom_resnet_model = keras.Model(inputs, out)"
   ]
  },
  {
   "cell_type": "code",
   "execution_count": 35,
   "metadata": {},
   "outputs": [],
   "source": [
    "LR = 0.0001\n",
    "\n",
    "custom_resnet_model.compile(optimizer=tf.keras.optimizers.Adam(learning_rate=LR),\n",
    "    loss = keras.losses.SparseCategoricalCrossentropy(from_logits=True),\n",
    "    metrics=['accuracy'])"
   ]
  },
  {
   "cell_type": "code",
   "execution_count": 36,
   "metadata": {},
   "outputs": [
    {
     "name": "stdout",
     "output_type": "stream",
     "text": [
      "Epoch 1/20\n",
      "WARNING:tensorflow:Using a while_loop for converting RngReadAndSkip cause there is no registered converter for this op.\n",
      "WARNING:tensorflow:Using a while_loop for converting Bitcast cause there is no registered converter for this op.\n",
      "WARNING:tensorflow:Using a while_loop for converting Bitcast cause there is no registered converter for this op.\n",
      "WARNING:tensorflow:Using a while_loop for converting StatelessRandomUniformV2 cause there is no registered converter for this op.\n",
      "WARNING:tensorflow:Using a while_loop for converting ImageProjectiveTransformV3 cause there is no registered converter for this op.\n",
      "WARNING:tensorflow:Using a while_loop for converting RngReadAndSkip cause there is no registered converter for this op.\n",
      "WARNING:tensorflow:Using a while_loop for converting Bitcast cause there is no registered converter for this op.\n",
      "WARNING:tensorflow:Using a while_loop for converting Bitcast cause there is no registered converter for this op.\n",
      "WARNING:tensorflow:Using a while_loop for converting StatelessRandomUniformV2 cause there is no registered converter for this op.\n",
      "WARNING:tensorflow:Using a while_loop for converting ImageProjectiveTransformV3 cause there is no registered converter for this op.\n"
     ]
    },
    {
     "name": "stderr",
     "output_type": "stream",
     "text": [
      "2023-05-03 15:20:19.065306: I tensorflow/core/grappler/optimizers/custom_graph_optimizer_registry.cc:114] Plugin optimizer for device_type GPU is enabled.\n"
     ]
    },
    {
     "name": "stdout",
     "output_type": "stream",
     "text": [
      "15/15 [==============================] - ETA: 0s - loss: 2.2021 - accuracy: 0.2708"
     ]
    },
    {
     "name": "stderr",
     "output_type": "stream",
     "text": [
      "2023-05-03 15:20:22.314624: I tensorflow/core/grappler/optimizers/custom_graph_optimizer_registry.cc:114] Plugin optimizer for device_type GPU is enabled.\n"
     ]
    },
    {
     "name": "stdout",
     "output_type": "stream",
     "text": [
      "15/15 [==============================] - 6s 242ms/step - loss: 2.2021 - accuracy: 0.2708 - val_loss: 1.4763 - val_accuracy: 0.4667\n",
      "Epoch 2/20\n",
      "15/15 [==============================] - 2s 158ms/step - loss: 1.2168 - accuracy: 0.5625 - val_loss: 0.7700 - val_accuracy: 0.7500\n",
      "Epoch 3/20\n",
      "15/15 [==============================] - 2s 153ms/step - loss: 0.8384 - accuracy: 0.7083 - val_loss: 0.5299 - val_accuracy: 0.8000\n",
      "Epoch 4/20\n",
      "15/15 [==============================] - 2s 154ms/step - loss: 0.6992 - accuracy: 0.7958 - val_loss: 0.3662 - val_accuracy: 0.9333\n",
      "Epoch 5/20\n",
      "15/15 [==============================] - 2s 156ms/step - loss: 0.6746 - accuracy: 0.7667 - val_loss: 0.3096 - val_accuracy: 0.9333\n",
      "Epoch 6/20\n",
      "15/15 [==============================] - 2s 152ms/step - loss: 0.5795 - accuracy: 0.8083 - val_loss: 0.2793 - val_accuracy: 0.9333\n",
      "Epoch 7/20\n",
      "15/15 [==============================] - 2s 152ms/step - loss: 0.6142 - accuracy: 0.7875 - val_loss: 0.2524 - val_accuracy: 0.9333\n",
      "Epoch 8/20\n",
      "15/15 [==============================] - 2s 151ms/step - loss: 0.4921 - accuracy: 0.8375 - val_loss: 0.2277 - val_accuracy: 0.9500\n",
      "Epoch 9/20\n",
      "15/15 [==============================] - 2s 151ms/step - loss: 0.4547 - accuracy: 0.8500 - val_loss: 0.2100 - val_accuracy: 0.9500\n",
      "Epoch 10/20\n",
      "15/15 [==============================] - 2s 151ms/step - loss: 0.4657 - accuracy: 0.8417 - val_loss: 0.1951 - val_accuracy: 0.9500\n",
      "Epoch 11/20\n",
      "15/15 [==============================] - 2s 151ms/step - loss: 0.4631 - accuracy: 0.8500 - val_loss: 0.1881 - val_accuracy: 0.9667\n",
      "Epoch 12/20\n",
      "15/15 [==============================] - 2s 154ms/step - loss: 0.4122 - accuracy: 0.8458 - val_loss: 0.1790 - val_accuracy: 0.9667\n",
      "Epoch 13/20\n",
      "15/15 [==============================] - 2s 152ms/step - loss: 0.3790 - accuracy: 0.8708 - val_loss: 0.1703 - val_accuracy: 0.9667\n",
      "Epoch 14/20\n",
      "15/15 [==============================] - 2s 152ms/step - loss: 0.3547 - accuracy: 0.8833 - val_loss: 0.1677 - val_accuracy: 0.9667\n",
      "Epoch 15/20\n",
      "15/15 [==============================] - 2s 152ms/step - loss: 0.3628 - accuracy: 0.8667 - val_loss: 0.1656 - val_accuracy: 0.9667\n",
      "Epoch 16/20\n",
      "15/15 [==============================] - 2s 152ms/step - loss: 0.3850 - accuracy: 0.8458 - val_loss: 0.1598 - val_accuracy: 0.9833\n",
      "Epoch 17/20\n",
      "15/15 [==============================] - 2s 152ms/step - loss: 0.3410 - accuracy: 0.8667 - val_loss: 0.1560 - val_accuracy: 0.9833\n",
      "Epoch 18/20\n",
      "15/15 [==============================] - 2s 152ms/step - loss: 0.3047 - accuracy: 0.8958 - val_loss: 0.1534 - val_accuracy: 0.9833\n",
      "Epoch 19/20\n",
      "15/15 [==============================] - 2s 151ms/step - loss: 0.3074 - accuracy: 0.9083 - val_loss: 0.1508 - val_accuracy: 0.9833\n",
      "Epoch 20/20\n",
      "15/15 [==============================] - 2s 152ms/step - loss: 0.2852 - accuracy: 0.8958 - val_loss: 0.1430 - val_accuracy: 0.9833\n"
     ]
    }
   ],
   "source": [
    "base_history = custom_resnet_model.fit(train_dataset, epochs=20, validation_data=val_dataset)"
   ]
  },
  {
   "cell_type": "code",
   "execution_count": 37,
   "metadata": {},
   "outputs": [
    {
     "data": {
      "image/png": "[encoded data removed]",
      "text/plain": [
       "<Figure size 640x480 with 1 Axes>"
      ]
     },
     "metadata": {},
     "output_type": "display_data"
    }
   ],
   "source": [
    "plt.plot(base_history.history['accuracy'], label='accuracy')\n",
    "plt.plot(base_history.history['val_accuracy'], label='val_accuracy')\n",
    "\n",
    "plt.title(\"Accuracy vs Validation Accuracy\")\n",
    "plt.xlabel(\"Epochs\")\n",
    "plt.ylabel(\"Accuracy\")\n",
    "plt.legend()\n",
    "plt.show()"
   ]
  },
  {
   "attachments": {},
   "cell_type": "markdown",
   "metadata": {},
   "source": [
    "# Privacy"
   ]
  },
  {
   "cell_type": "code",
   "execution_count": 39,
   "metadata": {},
   "outputs": [],
   "source": [
    "from tensorflow_privacy.privacy.optimizers.dp_optimizer import DPGradientDescentGaussianOptimizer\n",
    "import tensorflow_privacy"
   ]
  },
  {
   "cell_type": "code",
   "execution_count": 40,
   "metadata": {},
   "outputs": [
    {
     "name": "stdout",
     "output_type": "stream",
     "text": [
      "Found 300 files belonging to 4 classes.\n",
      "Using 240 files for training.\n",
      "Found 300 files belonging to 4 classes.\n",
      "Using 60 files for validation.\n"
     ]
    }
   ],
   "source": [
    "train_dataset = keras.utils.image_dataset_from_directory('./Faces', shuffle=True, image_size=(224, 224), batch_size=16, seed=train_seed, validation_split=split, subset='training')\n",
    "val_dataset = keras.utils.image_dataset_from_directory('./Faces', shuffle=True, image_size=(224, 224), batch_size=16, seed=train_seed, validation_split=split, subset='validation')"
   ]
  },
  {
   "cell_type": "code",
   "execution_count": 49,
   "metadata": {},
   "outputs": [],
   "source": [
    "from keras.layers import Dense, Flatten, Input\n",
    "from keras_vggface.vggface import VGGFace\n",
    "\n",
    "num_classes = 4\n",
    "\n",
    "resnet_base.trainable = False\n",
    "last_layer = resnet_base.get_layer('avg_pool').output\n",
    "\n",
    "inputs = tf.keras.Input(shape=(224, 224, 3))\n",
    "\n",
    "x = data_augmentation(inputs)\n",
    "x = resnet_base(x)\n",
    "x = Flatten(name='flatten')(x)\n",
    "\n",
    "out = Dense(num_classes, name='classifier', activation='softmax')(x)\n",
    "\n",
    "custom_resnet_model = keras.Model(inputs, out)"
   ]
  },
  {
   "cell_type": "code",
   "execution_count": 50,
   "metadata": {},
   "outputs": [],
   "source": [
    "loss = tf.keras.losses.SparseCategoricalCrossentropy(\n",
    "    from_logits=False, reduction=tf.losses.Reduction.NONE)"
   ]
  },
  {
   "cell_type": "code",
   "execution_count": 51,
   "metadata": {},
   "outputs": [],
   "source": [
    "noise_multiplier = 1.1\n",
    "l2_norm_clip = 3\n",
    "num_microbatches = 16\n",
    "learning_rate = 0.0001\n",
    "\n",
    "# optimizer = tensorflow_privacy.DPKerasSGDOptimizer(\n",
    "#     l2_norm_clip=l2_norm_clip,\n",
    "#     noise_multiplier=noise_multiplier,\n",
    "#     num_microbatches=num_microbatches,\n",
    "#     learning_rate=learning_rate\n",
    "# )\n",
    "\n",
    "optimizer = tensorflow_privacy.DPKerasAdamOptimizer(\n",
    "    l2_norm_clip=l2_norm_clip,\n",
    "    noise_multiplier=noise_multiplier,\n",
    "    num_microbatches=num_microbatches,\n",
    "    learning_rate=learning_rate\n",
    ")"
   ]
  },
  {
   "cell_type": "code",
   "execution_count": 54,
   "metadata": {},
   "outputs": [
    {
     "data": {
      "text/plain": [
       "<keras.callbacks.EarlyStopping at 0x3a4a65000>"
      ]
     },
     "execution_count": 54,
     "metadata": {},
     "output_type": "execute_result"
    }
   ],
   "source": [
    "tf.keras.callbacks.EarlyStopping(\n",
    "    monitor=\"val_loss\",\n",
    "    min_delta=0,\n",
    "    patience=0,\n",
    "    verbose=0,\n",
    "    mode=\"auto\",\n",
    "    baseline=None,\n",
    "    restore_best_weights=False,\n",
    ")"
   ]
  },
  {
   "cell_type": "code",
   "execution_count": 55,
   "metadata": {},
   "outputs": [],
   "source": [
    "LR = 0.0001\n",
    "\n",
    "custom_resnet_model.compile(optimizer=optimizer,\n",
    "    loss = loss,\n",
    "    metrics=['accuracy'])"
   ]
  },
  {
   "cell_type": "code",
   "execution_count": 56,
   "metadata": {},
   "outputs": [
    {
     "name": "stdout",
     "output_type": "stream",
     "text": [
      "Epoch 1/100\n",
      "WARNING:tensorflow:Using a while_loop for converting RngReadAndSkip cause there is no registered converter for this op.\n",
      "WARNING:tensorflow:Using a while_loop for converting Bitcast cause there is no registered converter for this op.\n",
      "WARNING:tensorflow:Using a while_loop for converting Bitcast cause there is no registered converter for this op.\n",
      "WARNING:tensorflow:Using a while_loop for converting StatelessRandomUniformV2 cause there is no registered converter for this op.\n",
      "WARNING:tensorflow:Using a while_loop for converting ImageProjectiveTransformV3 cause there is no registered converter for this op.\n",
      "WARNING:tensorflow:Using a while_loop for converting RngReadAndSkip cause there is no registered converter for this op.\n",
      "WARNING:tensorflow:Using a while_loop for converting Bitcast cause there is no registered converter for this op.\n",
      "WARNING:tensorflow:Using a while_loop for converting Bitcast cause there is no registered converter for this op.\n",
      "WARNING:tensorflow:Using a while_loop for converting StatelessRandomUniformV2 cause there is no registered converter for this op.\n",
      "WARNING:tensorflow:Using a while_loop for converting ImageProjectiveTransformV3 cause there is no registered converter for this op.\n"
     ]
    },
    {
     "name": "stderr",
     "output_type": "stream",
     "text": [
      "2023-05-04 10:55:44.951364: I tensorflow/core/grappler/optimizers/custom_graph_optimizer_registry.cc:114] Plugin optimizer for device_type GPU is enabled.\n"
     ]
    },
    {
     "name": "stdout",
     "output_type": "stream",
     "text": [
      "15/15 [==============================] - ETA: 0s - loss: 4.3712 - accuracy: 0.1125"
     ]
    },
    {
     "name": "stderr",
     "output_type": "stream",
     "text": [
      "2023-05-04 10:55:49.221018: I tensorflow/core/grappler/optimizers/custom_graph_optimizer_registry.cc:114] Plugin optimizer for device_type GPU is enabled.\n"
     ]
    },
    {
     "name": "stdout",
     "output_type": "stream",
     "text": [
      "15/15 [==============================] - 8s 308ms/step - loss: 4.3712 - accuracy: 0.1125 - val_loss: 6.6368 - val_accuracy: 0.1500\n",
      "Epoch 2/100\n",
      "15/15 [==============================] - 3s 195ms/step - loss: 4.4935 - accuracy: 0.1042 - val_loss: 6.6010 - val_accuracy: 0.1333\n",
      "Epoch 3/100\n",
      "15/15 [==============================] - 3s 190ms/step - loss: 4.5897 - accuracy: 0.1208 - val_loss: 6.5102 - val_accuracy: 0.1333\n",
      "Epoch 4/100\n",
      "15/15 [==============================] - 3s 190ms/step - loss: 4.3960 - accuracy: 0.1125 - val_loss: 6.3856 - val_accuracy: 0.1333\n",
      "Epoch 5/100\n",
      "15/15 [==============================] - 3s 188ms/step - loss: 4.1756 - accuracy: 0.1458 - val_loss: 6.4035 - val_accuracy: 0.1333\n",
      "Epoch 6/100\n",
      "15/15 [==============================] - 3s 185ms/step - loss: 4.1246 - accuracy: 0.1667 - val_loss: 6.2891 - val_accuracy: 0.1500\n",
      "Epoch 7/100\n",
      "15/15 [==============================] - 3s 185ms/step - loss: 3.9717 - accuracy: 0.1875 - val_loss: 6.1645 - val_accuracy: 0.2000\n",
      "Epoch 8/100\n",
      "15/15 [==============================] - 3s 185ms/step - loss: 4.4085 - accuracy: 0.2042 - val_loss: 6.2550 - val_accuracy: 0.2167\n",
      "Epoch 9/100\n",
      "15/15 [==============================] - 3s 182ms/step - loss: 4.1799 - accuracy: 0.2000 - val_loss: 6.2710 - val_accuracy: 0.2167\n",
      "Epoch 10/100\n",
      "15/15 [==============================] - 3s 185ms/step - loss: 3.7171 - accuracy: 0.2500 - val_loss: 6.0963 - val_accuracy: 0.2500\n",
      "Epoch 11/100\n",
      "15/15 [==============================] - 3s 183ms/step - loss: 4.0787 - accuracy: 0.2542 - val_loss: 6.1341 - val_accuracy: 0.2833\n",
      "Epoch 12/100\n",
      "15/15 [==============================] - 3s 183ms/step - loss: 3.6659 - accuracy: 0.2458 - val_loss: 6.1532 - val_accuracy: 0.2833\n",
      "Epoch 13/100\n",
      "15/15 [==============================] - 3s 185ms/step - loss: 4.0122 - accuracy: 0.2500 - val_loss: 6.1734 - val_accuracy: 0.2833\n",
      "Epoch 14/100\n",
      "15/15 [==============================] - 3s 183ms/step - loss: 3.8190 - accuracy: 0.2792 - val_loss: 6.0315 - val_accuracy: 0.2833\n",
      "Epoch 15/100\n",
      "15/15 [==============================] - 3s 182ms/step - loss: 3.6166 - accuracy: 0.2917 - val_loss: 6.1592 - val_accuracy: 0.2833\n",
      "Epoch 16/100\n",
      "15/15 [==============================] - 3s 184ms/step - loss: 3.7988 - accuracy: 0.3208 - val_loss: 6.0228 - val_accuracy: 0.2833\n",
      "Epoch 17/100\n",
      "15/15 [==============================] - 3s 186ms/step - loss: 3.7073 - accuracy: 0.3333 - val_loss: 6.0415 - val_accuracy: 0.2833\n",
      "Epoch 18/100\n",
      "15/15 [==============================] - 3s 184ms/step - loss: 3.5285 - accuracy: 0.3625 - val_loss: 6.0549 - val_accuracy: 0.3000\n",
      "Epoch 19/100\n",
      "15/15 [==============================] - 3s 183ms/step - loss: 3.5483 - accuracy: 0.3625 - val_loss: 6.0973 - val_accuracy: 0.3000\n",
      "Epoch 20/100\n",
      "15/15 [==============================] - 3s 186ms/step - loss: 3.5979 - accuracy: 0.3708 - val_loss: 6.0811 - val_accuracy: 0.3167\n",
      "Epoch 21/100\n",
      "15/15 [==============================] - 3s 182ms/step - loss: 3.6563 - accuracy: 0.3417 - val_loss: 6.1048 - val_accuracy: 0.3167\n",
      "Epoch 22/100\n",
      "15/15 [==============================] - 3s 181ms/step - loss: 3.8604 - accuracy: 0.3500 - val_loss: 6.0169 - val_accuracy: 0.3167\n",
      "Epoch 23/100\n",
      "15/15 [==============================] - 3s 186ms/step - loss: 3.6713 - accuracy: 0.4042 - val_loss: 5.9973 - val_accuracy: 0.3000\n",
      "Epoch 24/100\n",
      "15/15 [==============================] - 3s 183ms/step - loss: 3.9140 - accuracy: 0.3833 - val_loss: 5.9752 - val_accuracy: 0.3167\n",
      "Epoch 25/100\n",
      "15/15 [==============================] - 3s 184ms/step - loss: 3.5700 - accuracy: 0.3917 - val_loss: 6.0122 - val_accuracy: 0.3167\n",
      "Epoch 26/100\n",
      "15/15 [==============================] - 3s 183ms/step - loss: 3.7192 - accuracy: 0.3417 - val_loss: 5.9872 - val_accuracy: 0.3167\n",
      "Epoch 27/100\n",
      "15/15 [==============================] - 3s 183ms/step - loss: 3.5178 - accuracy: 0.4208 - val_loss: 5.8699 - val_accuracy: 0.3167\n",
      "Epoch 28/100\n",
      "15/15 [==============================] - 3s 183ms/step - loss: 3.7915 - accuracy: 0.3750 - val_loss: 5.9207 - val_accuracy: 0.3167\n",
      "Epoch 29/100\n",
      "15/15 [==============================] - 3s 183ms/step - loss: 3.7309 - accuracy: 0.4000 - val_loss: 6.0200 - val_accuracy: 0.3333\n",
      "Epoch 30/100\n",
      "15/15 [==============================] - 3s 188ms/step - loss: 3.4474 - accuracy: 0.4125 - val_loss: 5.8974 - val_accuracy: 0.3333\n",
      "Epoch 31/100\n",
      "15/15 [==============================] - 3s 183ms/step - loss: 3.2461 - accuracy: 0.4333 - val_loss: 5.9757 - val_accuracy: 0.3333\n",
      "Epoch 32/100\n",
      "15/15 [==============================] - 3s 184ms/step - loss: 3.5130 - accuracy: 0.4250 - val_loss: 6.0564 - val_accuracy: 0.3333\n",
      "Epoch 33/100\n",
      "15/15 [==============================] - 3s 184ms/step - loss: 3.3498 - accuracy: 0.4750 - val_loss: 6.0762 - val_accuracy: 0.3333\n",
      "Epoch 34/100\n",
      "15/15 [==============================] - 3s 183ms/step - loss: 3.6998 - accuracy: 0.4125 - val_loss: 6.1247 - val_accuracy: 0.3167\n",
      "Epoch 35/100\n",
      "15/15 [==============================] - 3s 183ms/step - loss: 3.5388 - accuracy: 0.4792 - val_loss: 6.1297 - val_accuracy: 0.3000\n",
      "Epoch 36/100\n",
      "15/15 [==============================] - 3s 183ms/step - loss: 3.8313 - accuracy: 0.4250 - val_loss: 6.1819 - val_accuracy: 0.3000\n",
      "Epoch 37/100\n",
      "15/15 [==============================] - 3s 182ms/step - loss: 3.6074 - accuracy: 0.4375 - val_loss: 6.1216 - val_accuracy: 0.3000\n",
      "Epoch 38/100\n",
      "15/15 [==============================] - 3s 183ms/step - loss: 3.5653 - accuracy: 0.4083 - val_loss: 6.1477 - val_accuracy: 0.3000\n",
      "Epoch 39/100\n",
      "15/15 [==============================] - 3s 184ms/step - loss: 3.5526 - accuracy: 0.4583 - val_loss: 6.2129 - val_accuracy: 0.3000\n",
      "Epoch 40/100\n",
      "15/15 [==============================] - 3s 182ms/step - loss: 3.6396 - accuracy: 0.4958 - val_loss: 6.3362 - val_accuracy: 0.3000\n",
      "Epoch 41/100\n",
      "15/15 [==============================] - 3s 182ms/step - loss: 4.0767 - accuracy: 0.4417 - val_loss: 6.1817 - val_accuracy: 0.3000\n",
      "Epoch 42/100\n",
      "15/15 [==============================] - 3s 182ms/step - loss: 3.6053 - accuracy: 0.4750 - val_loss: 6.3058 - val_accuracy: 0.3000\n",
      "Epoch 43/100\n",
      "15/15 [==============================] - 3s 185ms/step - loss: 3.8612 - accuracy: 0.4458 - val_loss: 6.4060 - val_accuracy: 0.3000\n",
      "Epoch 44/100\n",
      "15/15 [==============================] - 3s 182ms/step - loss: 3.5218 - accuracy: 0.4708 - val_loss: 6.3557 - val_accuracy: 0.3000\n",
      "Epoch 45/100\n",
      "15/15 [==============================] - 3s 183ms/step - loss: 3.6401 - accuracy: 0.4625 - val_loss: 6.3894 - val_accuracy: 0.3000\n",
      "Epoch 46/100\n",
      "15/15 [==============================] - 3s 184ms/step - loss: 3.8619 - accuracy: 0.4750 - val_loss: 6.3695 - val_accuracy: 0.3000\n",
      "Epoch 47/100\n",
      "15/15 [==============================] - 3s 184ms/step - loss: 3.8302 - accuracy: 0.4250 - val_loss: 6.5288 - val_accuracy: 0.3000\n",
      "Epoch 48/100\n",
      "15/15 [==============================] - 3s 185ms/step - loss: 4.0158 - accuracy: 0.4750 - val_loss: 6.5776 - val_accuracy: 0.3000\n",
      "Epoch 49/100\n",
      "15/15 [==============================] - 3s 185ms/step - loss: 3.7065 - accuracy: 0.4792 - val_loss: 6.5459 - val_accuracy: 0.3000\n",
      "Epoch 50/100\n",
      "15/15 [==============================] - 3s 184ms/step - loss: 3.7882 - accuracy: 0.4542 - val_loss: 6.5919 - val_accuracy: 0.3000\n",
      "Epoch 51/100\n",
      "15/15 [==============================] - 3s 183ms/step - loss: 3.8277 - accuracy: 0.5333 - val_loss: 6.6500 - val_accuracy: 0.3167\n",
      "Epoch 52/100\n",
      "15/15 [==============================] - 3s 182ms/step - loss: 3.8048 - accuracy: 0.4625 - val_loss: 6.6109 - val_accuracy: 0.3000\n",
      "Epoch 53/100\n",
      "15/15 [==============================] - 3s 185ms/step - loss: 4.1760 - accuracy: 0.4667 - val_loss: 6.7928 - val_accuracy: 0.3000\n",
      "Epoch 54/100\n",
      "15/15 [==============================] - 3s 184ms/step - loss: 3.9406 - accuracy: 0.4708 - val_loss: 6.7521 - val_accuracy: 0.3000\n",
      "Epoch 55/100\n",
      "15/15 [==============================] - 3s 185ms/step - loss: 3.6194 - accuracy: 0.5125 - val_loss: 6.9439 - val_accuracy: 0.2833\n",
      "Epoch 56/100\n",
      "15/15 [==============================] - 3s 182ms/step - loss: 4.0273 - accuracy: 0.4750 - val_loss: 6.9666 - val_accuracy: 0.2833\n",
      "Epoch 57/100\n",
      "15/15 [==============================] - 3s 186ms/step - loss: 3.9686 - accuracy: 0.4875 - val_loss: 7.0918 - val_accuracy: 0.2833\n",
      "Epoch 58/100\n",
      "15/15 [==============================] - 3s 193ms/step - loss: 3.9315 - accuracy: 0.5000 - val_loss: 6.8885 - val_accuracy: 0.2833\n",
      "Epoch 59/100\n",
      "15/15 [==============================] - 3s 185ms/step - loss: 3.9150 - accuracy: 0.5000 - val_loss: 7.0795 - val_accuracy: 0.2833\n",
      "Epoch 60/100\n",
      "15/15 [==============================] - 3s 184ms/step - loss: 4.0106 - accuracy: 0.4750 - val_loss: 6.9906 - val_accuracy: 0.2833\n",
      "Epoch 61/100\n",
      "15/15 [==============================] - 3s 184ms/step - loss: 4.3637 - accuracy: 0.4292 - val_loss: 7.3287 - val_accuracy: 0.2833\n",
      "Epoch 62/100\n",
      "15/15 [==============================] - 3s 183ms/step - loss: 4.7295 - accuracy: 0.4333 - val_loss: 7.0854 - val_accuracy: 0.2833\n",
      "Epoch 63/100\n",
      "15/15 [==============================] - 3s 183ms/step - loss: 4.3205 - accuracy: 0.4333 - val_loss: 7.4363 - val_accuracy: 0.2833\n",
      "Epoch 64/100\n",
      "15/15 [==============================] - 3s 184ms/step - loss: 4.2293 - accuracy: 0.4625 - val_loss: 7.3011 - val_accuracy: 0.2833\n",
      "Epoch 65/100\n",
      "15/15 [==============================] - 3s 184ms/step - loss: 3.9751 - accuracy: 0.4875 - val_loss: 7.3303 - val_accuracy: 0.2833\n",
      "Epoch 66/100\n",
      "15/15 [==============================] - 3s 186ms/step - loss: 4.3597 - accuracy: 0.4792 - val_loss: 7.5297 - val_accuracy: 0.2833\n",
      "Epoch 67/100\n",
      "15/15 [==============================] - 3s 184ms/step - loss: 4.4937 - accuracy: 0.4792 - val_loss: 7.5583 - val_accuracy: 0.2833\n",
      "Epoch 68/100\n",
      "15/15 [==============================] - 3s 185ms/step - loss: 4.6580 - accuracy: 0.4333 - val_loss: 7.5380 - val_accuracy: 0.3000\n",
      "Epoch 69/100\n",
      "15/15 [==============================] - 3s 185ms/step - loss: 4.3078 - accuracy: 0.4958 - val_loss: 7.6506 - val_accuracy: 0.3000\n",
      "Epoch 70/100\n",
      "15/15 [==============================] - 3s 184ms/step - loss: 4.4581 - accuracy: 0.4875 - val_loss: 7.6679 - val_accuracy: 0.3000\n",
      "Epoch 71/100\n",
      "15/15 [==============================] - 3s 186ms/step - loss: 4.4450 - accuracy: 0.4833 - val_loss: 7.6544 - val_accuracy: 0.3000\n",
      "Epoch 72/100\n",
      "15/15 [==============================] - 3s 186ms/step - loss: 4.7851 - accuracy: 0.4750 - val_loss: 7.6984 - val_accuracy: 0.3000\n",
      "Epoch 73/100\n",
      "15/15 [==============================] - 3s 183ms/step - loss: 4.2957 - accuracy: 0.5083 - val_loss: 7.8690 - val_accuracy: 0.3000\n",
      "Epoch 74/100\n",
      "15/15 [==============================] - 3s 184ms/step - loss: 4.8688 - accuracy: 0.5083 - val_loss: 8.0560 - val_accuracy: 0.3000\n",
      "Epoch 75/100\n",
      "15/15 [==============================] - 3s 185ms/step - loss: 5.0736 - accuracy: 0.4417 - val_loss: 8.1475 - val_accuracy: 0.3000\n",
      "Epoch 76/100\n",
      "15/15 [==============================] - 3s 184ms/step - loss: 4.6652 - accuracy: 0.4583 - val_loss: 8.0502 - val_accuracy: 0.3000\n",
      "Epoch 77/100\n",
      "15/15 [==============================] - 3s 185ms/step - loss: 4.8619 - accuracy: 0.4500 - val_loss: 8.0097 - val_accuracy: 0.3000\n",
      "Epoch 78/100\n",
      "15/15 [==============================] - 3s 184ms/step - loss: 4.8789 - accuracy: 0.4375 - val_loss: 8.2506 - val_accuracy: 0.3000\n",
      "Epoch 79/100\n",
      "15/15 [==============================] - 3s 184ms/step - loss: 4.9041 - accuracy: 0.4833 - val_loss: 8.2462 - val_accuracy: 0.3000\n",
      "Epoch 80/100\n",
      "15/15 [==============================] - 3s 185ms/step - loss: 4.5971 - accuracy: 0.4458 - val_loss: 8.3177 - val_accuracy: 0.3000\n",
      "Epoch 81/100\n",
      "15/15 [==============================] - 3s 184ms/step - loss: 4.7257 - accuracy: 0.4583 - val_loss: 8.4459 - val_accuracy: 0.3000\n",
      "Epoch 82/100\n",
      "15/15 [==============================] - 3s 184ms/step - loss: 4.8346 - accuracy: 0.4917 - val_loss: 8.3352 - val_accuracy: 0.3000\n",
      "Epoch 83/100\n",
      "15/15 [==============================] - 3s 185ms/step - loss: 4.9919 - accuracy: 0.4875 - val_loss: 8.5141 - val_accuracy: 0.3000\n",
      "Epoch 84/100\n",
      "15/15 [==============================] - 3s 185ms/step - loss: 5.1789 - accuracy: 0.5208 - val_loss: 8.6814 - val_accuracy: 0.3000\n",
      "Epoch 85/100\n",
      "15/15 [==============================] - 3s 183ms/step - loss: 5.1388 - accuracy: 0.5250 - val_loss: 8.7060 - val_accuracy: 0.3000\n",
      "Epoch 86/100\n",
      "15/15 [==============================] - 3s 184ms/step - loss: 5.3133 - accuracy: 0.4458 - val_loss: 8.7941 - val_accuracy: 0.3000\n",
      "Epoch 87/100\n",
      "15/15 [==============================] - 3s 184ms/step - loss: 5.1790 - accuracy: 0.4792 - val_loss: 8.5883 - val_accuracy: 0.3000\n",
      "Epoch 88/100\n",
      "15/15 [==============================] - 3s 184ms/step - loss: 5.5213 - accuracy: 0.4458 - val_loss: 9.1460 - val_accuracy: 0.3000\n",
      "Epoch 89/100\n",
      "15/15 [==============================] - 3s 187ms/step - loss: 4.8835 - accuracy: 0.5000 - val_loss: 9.1650 - val_accuracy: 0.3000\n",
      "Epoch 90/100\n",
      "15/15 [==============================] - 3s 184ms/step - loss: 5.2436 - accuracy: 0.4417 - val_loss: 9.2886 - val_accuracy: 0.3000\n",
      "Epoch 91/100\n",
      "15/15 [==============================] - 3s 188ms/step - loss: 5.1217 - accuracy: 0.4833 - val_loss: 9.0610 - val_accuracy: 0.3000\n",
      "Epoch 92/100\n",
      "15/15 [==============================] - 3s 186ms/step - loss: 4.7975 - accuracy: 0.5000 - val_loss: 9.3706 - val_accuracy: 0.3000\n",
      "Epoch 93/100\n",
      "15/15 [==============================] - 3s 184ms/step - loss: 5.4314 - accuracy: 0.4667 - val_loss: 9.4093 - val_accuracy: 0.3000\n",
      "Epoch 94/100\n",
      "15/15 [==============================] - 3s 184ms/step - loss: 5.8722 - accuracy: 0.4583 - val_loss: 9.4440 - val_accuracy: 0.3000\n",
      "Epoch 95/100\n",
      "15/15 [==============================] - 3s 183ms/step - loss: 4.8784 - accuracy: 0.4750 - val_loss: 9.3747 - val_accuracy: 0.3000\n",
      "Epoch 96/100\n",
      "15/15 [==============================] - 3s 182ms/step - loss: 5.3088 - accuracy: 0.4583 - val_loss: 9.5296 - val_accuracy: 0.3000\n",
      "Epoch 97/100\n",
      "15/15 [==============================] - 3s 184ms/step - loss: 6.0717 - accuracy: 0.4333 - val_loss: 9.7262 - val_accuracy: 0.3000\n",
      "Epoch 98/100\n",
      "15/15 [==============================] - 3s 185ms/step - loss: 5.2594 - accuracy: 0.4750 - val_loss: 9.8258 - val_accuracy: 0.3000\n",
      "Epoch 99/100\n",
      "15/15 [==============================] - 3s 185ms/step - loss: 5.3473 - accuracy: 0.4708 - val_loss: 9.7998 - val_accuracy: 0.3000\n",
      "Epoch 100/100\n",
      "15/15 [==============================] - 3s 185ms/step - loss: 6.0810 - accuracy: 0.4500 - val_loss: 9.7159 - val_accuracy: 0.3000\n"
     ]
    }
   ],
   "source": [
    "# callback = tf.keras.callbacks.EarlyStopping(monitor='loss', patience=5)\n",
    "history = custom_resnet_model.fit(train_dataset, epochs=50, validation_data=val_dataset)"
   ]
  },
  {
   "cell_type": "code",
   "execution_count": 29,
   "metadata": {},
   "outputs": [
    {
     "data": {
      "image/png": "[encoded data removed]",
      "text/plain": [
       "<Figure size 640x480 with 1 Axes>"
      ]
     },
     "metadata": {},
     "output_type": "display_data"
    }
   ],
   "source": [
    "\n",
    "plt.plot(history.history['accuracy'], label='accuracy')\n",
    "plt.plot(history.history['val_accuracy'], label='val_accuracy')\n",
    "\n",
    "plt.title(\"Accuracy vs Validation Accuracy\")\n",
    "plt.xlabel(\"Epochs\")\n",
    "plt.ylabel(\"Accuracy\")\n",
    "plt.legend()\n",
    "plt.show()"
   ]
  },
  {
   "cell_type": "code",
   "execution_count": 57,
   "metadata": {},
   "outputs": [
    {
     "name": "stdout",
     "output_type": "stream",
     "text": [
      "DP-SGD with sampling rate = 6.67% and noise_multiplier = 1.1 iterated over 300 steps satisfies differential privacy with eps = 7.32 and delta = 1e-05.\n",
      "The optimal RDP order is 3.5.\n"
     ]
    },
    {
     "data": {
      "text/plain": [
       "(7.3234449845072, 3.5)"
      ]
     },
     "execution_count": 57,
     "metadata": {},
     "output_type": "execute_result"
    }
   ],
   "source": [
    "tensorflow_privacy.compute_dp_sgd_privacy(240, 16, 1.1, 20, 1e-5)"
   ]
  }
 ],
 "metadata": {
  "kernelspec": {
   "display_name": "AI310",
   "language": "python",
   "name": "python3"
  },
  "language_info": {
   "codemirror_mode": {
    "name": "ipython",
    "version": 3
   },
   "file_extension": ".py",
   "mimetype": "text/x-python",
   "name": "python",
   "nbconvert_exporter": "python",
   "pygments_lexer": "ipython3",
   "version": "3.10.10"
  },
  "orig_nbformat": 4
 },
 "nbformat": 4,
 "nbformat_minor": 2
}
