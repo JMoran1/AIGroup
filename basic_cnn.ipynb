{
 "cells": [
  {
   "cell_type": "code",
   "execution_count": 83,
   "metadata": {},
   "outputs": [],
   "source": [
    "import tensorflow as tf\n",
    "import keras\n",
    "import keras_vggface\n",
    "from keras_vggface.vggface import VGGFace\n",
    "# Had to change code in keras vggface to make it work changed model.py line 20 as shown here https://stackoverflow.com/a/71379206\n",
    "import numpy as np\n",
    "import matplotlib as mpl\n",
    "import keras_vggface.utils\n",
    "import PIL\n",
    "import os\n",
    "import os.path\n",
    "import matplotlib.pyplot as plt"
   ]
  },
  {
   "cell_type": "code",
   "execution_count": 84,
   "metadata": {},
   "outputs": [
    {
     "name": "stdout",
     "output_type": "stream",
     "text": [
      "Found 300 files belonging to 4 classes.\n",
      "Using 240 files for training.\n",
      "Found 300 files belonging to 4 classes.\n",
      "Using 60 files for validation.\n"
     ]
    }
   ],
   "source": [
    "train_seed = 30\n",
    "split = 0.2\n",
    "\n",
    "train_dataset = keras.utils.image_dataset_from_directory('./AIGroupFaces', shuffle=True, image_size=(224, 224), batch_size=64, seed=train_seed, validation_split=split, subset='training')\n",
    "val_dataset = keras.utils.image_dataset_from_directory('./AIGroupFaces', shuffle=True, image_size=(224, 224), batch_size=64, seed=train_seed, validation_split=split, subset='validation')"
   ]
  },
  {
   "cell_type": "code",
   "execution_count": 86,
   "metadata": {},
   "outputs": [],
   "source": [
    "data_aug = keras.Sequential([\n",
    "    keras.layers.RandomFlip(\"horizontal\"),\n",
    "    keras.layers.RandomRotation(0.2), ])"
   ]
  },
  {
   "cell_type": "code",
   "execution_count": 89,
   "metadata": {},
   "outputs": [],
   "source": [
    "num_classes = 4\n",
    "\n",
    "model = tf.keras.models.Sequential([\n",
    "  tf.keras.layers.Rescaling(1./255, input_shape=(224, 224, 3)),\n",
    "  tf.keras.layers.Conv2D(16, 3, padding='same', activation='relu'),\n",
    "  tf.keras.layers.Flatten(),\n",
    "  tf.keras.layers.Dense(32, activation='relu'),\n",
    "  tf.keras.layers.Dense(num_classes,activation='softmax')\n",
    "])"
   ]
  },
  {
   "cell_type": "code",
   "execution_count": 92,
   "metadata": {},
   "outputs": [],
   "source": [
    "LR = 0.0001\n",
    "model.compile(optimizer=tf.keras.optimizers.Adam(learning_rate=LR),\n",
    "    loss = keras.losses.SparseCategoricalCrossentropy(from_logits=True),\n",
    "    metrics=['accuracy'])"
   ]
  },
  {
   "cell_type": "code",
   "execution_count": 93,
   "metadata": {},
   "outputs": [
    {
     "name": "stdout",
     "output_type": "stream",
     "text": [
      "Epoch 1/20\n"
     ]
    },
    {
     "name": "stderr",
     "output_type": "stream",
     "text": [
      "/Users/jacobmoran/miniforge3/envs/AI310/lib/python3.10/site-packages/keras/backend.py:5582: UserWarning: \"`sparse_categorical_crossentropy` received `from_logits=True`, but the `output` argument was produced by a Softmax activation and thus does not represent logits. Was this intended?\n",
      "  output, from_logits = _get_logits(\n",
      "2023-05-04 10:33:03.734319: I tensorflow/core/grappler/optimizers/custom_graph_optimizer_registry.cc:114] Plugin optimizer for device_type GPU is enabled.\n"
     ]
    },
    {
     "name": "stdout",
     "output_type": "stream",
     "text": [
      "4/4 [==============================] - ETA: 0s - loss: 6.1468 - accuracy: 0.4042"
     ]
    },
    {
     "name": "stderr",
     "output_type": "stream",
     "text": [
      "2023-05-04 10:33:05.337555: I tensorflow/core/grappler/optimizers/custom_graph_optimizer_registry.cc:114] Plugin optimizer for device_type GPU is enabled.\n"
     ]
    },
    {
     "name": "stdout",
     "output_type": "stream",
     "text": [
      "4/4 [==============================] - 2s 494ms/step - loss: 6.1468 - accuracy: 0.4042 - val_loss: 4.4089 - val_accuracy: 0.4167\n",
      "Epoch 2/20\n",
      "4/4 [==============================] - 2s 457ms/step - loss: 3.0948 - accuracy: 0.4875 - val_loss: 1.1022 - val_accuracy: 0.8167\n",
      "Epoch 3/20\n",
      "4/4 [==============================] - 2s 457ms/step - loss: 0.7069 - accuracy: 0.8000 - val_loss: 1.1590 - val_accuracy: 0.4667\n",
      "Epoch 4/20\n",
      "4/4 [==============================] - 2s 454ms/step - loss: 0.7915 - accuracy: 0.7375 - val_loss: 0.6742 - val_accuracy: 0.8833\n",
      "Epoch 5/20\n",
      "4/4 [==============================] - 2s 457ms/step - loss: 0.6237 - accuracy: 0.8583 - val_loss: 0.6005 - val_accuracy: 0.8667\n",
      "Epoch 6/20\n",
      "4/4 [==============================] - 2s 456ms/step - loss: 0.5616 - accuracy: 0.8083 - val_loss: 0.5360 - val_accuracy: 0.8500\n",
      "Epoch 7/20\n",
      "4/4 [==============================] - 2s 456ms/step - loss: 0.4768 - accuracy: 0.8500 - val_loss: 0.4583 - val_accuracy: 0.8500\n",
      "Epoch 8/20\n",
      "4/4 [==============================] - 2s 452ms/step - loss: 0.3948 - accuracy: 0.9083 - val_loss: 0.4587 - val_accuracy: 0.8833\n",
      "Epoch 9/20\n",
      "4/4 [==============================] - 2s 455ms/step - loss: 0.3692 - accuracy: 0.9208 - val_loss: 0.3837 - val_accuracy: 0.8833\n",
      "Epoch 10/20\n",
      "4/4 [==============================] - 2s 456ms/step - loss: 0.3199 - accuracy: 0.9292 - val_loss: 0.3605 - val_accuracy: 1.0000\n",
      "Epoch 11/20\n",
      "4/4 [==============================] - 2s 456ms/step - loss: 0.3058 - accuracy: 0.9792 - val_loss: 0.3465 - val_accuracy: 1.0000\n",
      "Epoch 12/20\n",
      "4/4 [==============================] - 2s 459ms/step - loss: 0.2827 - accuracy: 0.9667 - val_loss: 0.3276 - val_accuracy: 0.9167\n",
      "Epoch 13/20\n",
      "4/4 [==============================] - 2s 455ms/step - loss: 0.2603 - accuracy: 0.9333 - val_loss: 0.3063 - val_accuracy: 0.9333\n",
      "Epoch 14/20\n",
      "4/4 [==============================] - 2s 459ms/step - loss: 0.2448 - accuracy: 0.9417 - val_loss: 0.2975 - val_accuracy: 0.9667\n",
      "Epoch 15/20\n",
      "4/4 [==============================] - 2s 460ms/step - loss: 0.2299 - accuracy: 0.9667 - val_loss: 0.2848 - val_accuracy: 1.0000\n",
      "Epoch 16/20\n",
      "4/4 [==============================] - 2s 458ms/step - loss: 0.2181 - accuracy: 0.9583 - val_loss: 0.2743 - val_accuracy: 0.9833\n",
      "Epoch 17/20\n",
      "4/4 [==============================] - 2s 456ms/step - loss: 0.2064 - accuracy: 0.9833 - val_loss: 0.2640 - val_accuracy: 1.0000\n",
      "Epoch 18/20\n",
      "4/4 [==============================] - 2s 459ms/step - loss: 0.1960 - accuracy: 0.9667 - val_loss: 0.2544 - val_accuracy: 1.0000\n",
      "Epoch 19/20\n",
      "4/4 [==============================] - 2s 457ms/step - loss: 0.1851 - accuracy: 0.9667 - val_loss: 0.2468 - val_accuracy: 0.9333\n",
      "Epoch 20/20\n",
      "4/4 [==============================] - 2s 457ms/step - loss: 0.1769 - accuracy: 0.9667 - val_loss: 0.2382 - val_accuracy: 0.9500\n"
     ]
    }
   ],
   "source": [
    "history = model.fit(train_dataset, epochs=20, validation_data=val_dataset)"
   ]
  },
  {
   "cell_type": "code",
   "execution_count": 94,
   "metadata": {},
   "outputs": [
    {
     "name": "stdout",
     "output_type": "stream",
     "text": [
      "1/1 [==============================] - 0s 62ms/step\n"
     ]
    },
    {
     "name": "stderr",
     "output_type": "stream",
     "text": [
      "2023-05-04 10:34:15.550350: I tensorflow/core/grappler/optimizers/custom_graph_optimizer_registry.cc:114] Plugin optimizer for device_type GPU is enabled.\n"
     ]
    },
    {
     "data": {
      "text/plain": [
       "array([3, 3, 3, 2, 3, 2, 1, 2, 2, 2, 1, 3, 2, 1, 3, 2, 2, 3, 3, 2, 2, 1,\n",
       "       2, 3, 2, 1, 2, 1, 2, 1, 3, 2, 0, 2, 2, 1, 2, 2, 2, 1, 2, 3, 0, 2,\n",
       "       3, 3, 2, 3, 2, 3, 3, 3, 0, 1, 3, 3, 0, 2, 3, 1])"
      ]
     },
     "execution_count": 94,
     "metadata": {},
     "output_type": "execute_result"
    }
   ],
   "source": [
    "pred=model.predict(val_dataset)\n",
    "pred.argmax(axis=1)"
   ]
  },
  {
   "cell_type": "code",
   "execution_count": null,
   "metadata": {},
   "outputs": [],
   "source": []
  },
  {
   "cell_type": "code",
   "execution_count": 95,
   "metadata": {},
   "outputs": [
    {
     "data": {
      "image/png": "[encoded data removed]",
      "text/plain": [
       "<Figure size 640x480 with 1 Axes>"
      ]
     },
     "metadata": {},
     "output_type": "display_data"
    }
   ],
   "source": [
    "plt.plot(history.history['accuracy'], label='accuracy')\n",
    "plt.plot(history.history['val_accuracy'], label='val_accuracy')\n",
    "\n",
    "plt.title(\"Accuracy vs Validation Accuracy\")\n",
    "plt.xlabel(\"Epochs\")\n",
    "plt.ylabel(\"Accuracy\")\n",
    "plt.legend()\n",
    "plt.show()"
   ]
  },
  {
   "cell_type": "code",
   "execution_count": 52,
   "metadata": {},
   "outputs": [],
   "source": [
    "class_labels = ['Alex', 'Jacob', 'Lewis', 'Unknown']"
   ]
  },
  {
   "cell_type": "code",
   "execution_count": 74,
   "metadata": {},
   "outputs": [
    {
     "name": "stdout",
     "output_type": "stream",
     "text": [
      "1/1 [==============================] - 0s 17ms/step\n",
      "[[ 0.25580546 -1.9794745  -1.368159    7.3285775 ]]\n",
      "Unknown\n"
     ]
    }
   ],
   "source": [
    "import numpy as np\n",
    "from tensorflow.keras.preprocessing import image\n",
    "from tensorflow.keras.applications.imagenet_utils import preprocess_input, decode_predictions\n",
    "\n",
    "def load_and_preprocess_image(img_path, target_size=(224, 224)):\n",
    "    # Load and resize the image\n",
    "    img = image.load_img(img_path, target_size=target_size)\n",
    "    \n",
    "    # Convert the image to a numpy array and normalize the pixel values\n",
    "    img_array = image.img_to_array(img)\n",
    "    img_array = np.expand_dims(img_array, axis=0)\n",
    "    img_array = preprocess_input(img_array)\n",
    "    \n",
    "    return img_array\n",
    "\n",
    "# Replace 'path/to/your/image.jpg' with the actual path to the image you want to predict on\n",
    "img_path = 'Faces/Jacob/0f2f_Jacob_4.jpg'\n",
    "\n",
    "img_array = load_and_preprocess_image(img_path)\n",
    "\n",
    "# Make a prediction\n",
    "predictions = model.predict(img_array)\n",
    "\n",
    "# Decode the predictions (if necessary, e.g., for classification tasks)\n",
    "# decoded_predictions = decode_predictions(predictions, top=3)[0]\n",
    "\n",
    "# Print the results\n",
    "print(predictions)\n",
    "# Convert the predicted probabilities to class indices\n",
    "predicted_class_index = np.argmax(predictions)\n",
    "\n",
    "# Map the predicted class index to the corresponding class label\n",
    "predicted_class_label = class_labels[predicted_class_index]\n",
    "print(predicted_class_label)\n"
   ]
  },
  {
   "cell_type": "code",
   "execution_count": null,
   "metadata": {},
   "outputs": [],
   "source": [
    "from sklearn.metrics import confusion_matrix\n",
    "import itertools\n",
    "\n",
    "y_pred = []\n",
    "y_true = []\n",
    "for images, labels in val_dataset.unbatch().batch(1).as_numpy_iterator():\n",
    "    y_true.append(labels[0])\n",
    "    y_pred.append(np.argmax(model.predict(images), axis=-1)[0])\n",
    "\n",
    "# Calculate the confusion matrix\n",
    "cm = confusion_matrix(y_true, y_pred)\n",
    "\n",
    "# Function to plot confusion matrix\n",
    "def plot_confusion_matrix(cm, class_names):\n",
    "    cm = cm.astype('float') / cm.sum(axis=1)[:, np.newaxis]\n",
    "    plt.figure(figsize=(8, 8))\n",
    "    plt.imshow(cm, interpolation='nearest', cmap=plt.cm.Blues)\n",
    "    plt.title('Confusion matrix')\n",
    "    plt.colorbar()\n",
    "    tick_marks = np.arange(len(class_names))\n",
    "    plt.xticks(tick_marks, class_names, rotation=45)\n",
    "    plt.yticks(tick_marks, class_names)\n",
    "    \n",
    "    fmt = '.2f'\n",
    "    thresh = cm.max() / 2.\n",
    "    for i, j in itertools.product(range(cm.shape[0]), range(cm.shape[1])):\n",
    "        plt.text(j, i, format(cm[i, j], fmt),\n",
    "                 horizontalalignment=\"center\",\n",
    "                 color=\"white\" if cm[i, j] > thresh else \"black\")\n",
    "    \n",
    "    plt.ylabel('True label')\n",
    "    plt.xlabel('Predicted label')\n",
    "    plt.tight_layout()\n",
    "    plt.show()\n",
    "\n",
    "# Get the class names\n",
    "class_names = train_dataset.class_names\n",
    "\n",
    "# Plot the confusion matrix\n",
    "plot_confusion_matrix(cm, class_names)"
   ]
  },
  {
   "attachments": {},
   "cell_type": "markdown",
   "metadata": {},
   "source": [
    "# Privacy"
   ]
  },
  {
   "cell_type": "code",
   "execution_count": 96,
   "metadata": {},
   "outputs": [],
   "source": [
    "from tensorflow_privacy.privacy.optimizers.dp_optimizer import DPGradientDescentGaussianOptimizer\n",
    "import tensorflow_privacy"
   ]
  },
  {
   "cell_type": "code",
   "execution_count": 97,
   "metadata": {},
   "outputs": [],
   "source": [
    "num_classes = 4\n",
    "\n",
    "model = tf.keras.models.Sequential([\n",
    "  tf.keras.layers.Rescaling(1./255, input_shape=(224, 224, 3)),\n",
    "  tf.keras.layers.Conv2D(16, 3, padding='same', activation='relu'),\n",
    "  tf.keras.layers.Flatten(),\n",
    "  tf.keras.layers.Dense(32, activation='relu'),\n",
    "  tf.keras.layers.Dense(num_classes,activation='softmax')\n",
    "])"
   ]
  },
  {
   "cell_type": "code",
   "execution_count": 98,
   "metadata": {},
   "outputs": [],
   "source": [
    "loss = tf.keras.losses.SparseCategoricalCrossentropy(\n",
    "    from_logits=False, reduction=tf.losses.Reduction.NONE)"
   ]
  },
  {
   "cell_type": "code",
   "execution_count": 99,
   "metadata": {},
   "outputs": [],
   "source": [
    "noise_multiplier = 1.1\n",
    "l2_norm_clip = 5\n",
    "num_microbatches = 16\n",
    "learning_rate = 0.0001\n",
    "\n",
    "optimizer = tensorflow_privacy.DPKerasSGDOptimizer(\n",
    "    l2_norm_clip=l2_norm_clip,\n",
    "    noise_multiplier=noise_multiplier,\n",
    "    num_microbatches=num_microbatches,\n",
    "    learning_rate=learning_rate\n",
    ")"
   ]
  },
  {
   "cell_type": "code",
   "execution_count": 100,
   "metadata": {},
   "outputs": [],
   "source": [
    "LR = 0.0001\n",
    "\n",
    "model.compile(optimizer=optimizer,\n",
    "    loss = loss,\n",
    "    metrics=['accuracy'])"
   ]
  },
  {
   "cell_type": "code",
   "execution_count": 101,
   "metadata": {},
   "outputs": [
    {
     "name": "stdout",
     "output_type": "stream",
     "text": [
      "Epoch 1/20\n"
     ]
    },
    {
     "name": "stderr",
     "output_type": "stream",
     "text": [
      "2023-05-04 10:37:04.682396: I tensorflow/core/grappler/optimizers/custom_graph_optimizer_registry.cc:114] Plugin optimizer for device_type GPU is enabled.\n"
     ]
    },
    {
     "name": "stdout",
     "output_type": "stream",
     "text": [
      "4/4 [==============================] - ETA: 0s - loss: 1.4730 - accuracy: 0.0625"
     ]
    },
    {
     "name": "stderr",
     "output_type": "stream",
     "text": [
      "2023-05-04 10:37:20.461617: I tensorflow/core/grappler/optimizers/custom_graph_optimizer_registry.cc:114] Plugin optimizer for device_type GPU is enabled.\n"
     ]
    },
    {
     "name": "stdout",
     "output_type": "stream",
     "text": [
      "4/4 [==============================] - 17s 4s/step - loss: 1.4730 - accuracy: 0.0625 - val_loss: 1.4472 - val_accuracy: 0.1333\n",
      "Epoch 2/20\n",
      "4/4 [==============================] - 15s 4s/step - loss: 1.4410 - accuracy: 0.1000 - val_loss: 1.4198 - val_accuracy: 0.1833\n",
      "Epoch 3/20\n",
      "4/4 [==============================] - 16s 4s/step - loss: 1.4079 - accuracy: 0.1792 - val_loss: 1.3933 - val_accuracy: 0.2000\n",
      "Epoch 4/20\n",
      "4/4 [==============================] - 15s 4s/step - loss: 1.3751 - accuracy: 0.2083 - val_loss: 1.3648 - val_accuracy: 0.2667\n",
      "Epoch 5/20\n",
      "4/4 [==============================] - 15s 4s/step - loss: 1.3429 - accuracy: 0.3708 - val_loss: 1.3394 - val_accuracy: 0.3333\n",
      "Epoch 6/20\n",
      "4/4 [==============================] - 15s 4s/step - loss: 1.3128 - accuracy: 0.4125 - val_loss: 1.3157 - val_accuracy: 0.3667\n",
      "Epoch 7/20\n",
      "4/4 [==============================] - 15s 4s/step - loss: 1.2875 - accuracy: 0.4708 - val_loss: 1.2944 - val_accuracy: 0.4000\n",
      "Epoch 8/20\n",
      "4/4 [==============================] - 15s 4s/step - loss: 1.2648 - accuracy: 0.4958 - val_loss: 1.2756 - val_accuracy: 0.4667\n",
      "Epoch 9/20\n",
      "4/4 [==============================] - 15s 4s/step - loss: 1.2413 - accuracy: 0.5375 - val_loss: 1.2575 - val_accuracy: 0.4833\n",
      "Epoch 10/20\n",
      "4/4 [==============================] - 15s 4s/step - loss: 1.2236 - accuracy: 0.6000 - val_loss: 1.2397 - val_accuracy: 0.5333\n",
      "Epoch 11/20\n",
      "4/4 [==============================] - 15s 4s/step - loss: 1.2041 - accuracy: 0.6458 - val_loss: 1.2227 - val_accuracy: 0.6167\n",
      "Epoch 12/20\n",
      "4/4 [==============================] - 15s 4s/step - loss: 1.1878 - accuracy: 0.6708 - val_loss: 1.2060 - val_accuracy: 0.6500\n",
      "Epoch 13/20\n",
      "4/4 [==============================] - 15s 4s/step - loss: 1.1688 - accuracy: 0.6958 - val_loss: 1.1905 - val_accuracy: 0.6500\n",
      "Epoch 14/20\n",
      "4/4 [==============================] - 15s 4s/step - loss: 1.1513 - accuracy: 0.6917 - val_loss: 1.1755 - val_accuracy: 0.6500\n",
      "Epoch 15/20\n",
      "4/4 [==============================] - 15s 4s/step - loss: 1.1342 - accuracy: 0.7000 - val_loss: 1.1618 - val_accuracy: 0.6667\n",
      "Epoch 16/20\n",
      "4/4 [==============================] - 15s 4s/step - loss: 1.1225 - accuracy: 0.7042 - val_loss: 1.1483 - val_accuracy: 0.6667\n",
      "Epoch 17/20\n",
      "4/4 [==============================] - 15s 4s/step - loss: 1.1128 - accuracy: 0.7083 - val_loss: 1.1353 - val_accuracy: 0.6833\n",
      "Epoch 18/20\n",
      "4/4 [==============================] - 15s 4s/step - loss: 1.0946 - accuracy: 0.7125 - val_loss: 1.1217 - val_accuracy: 0.6833\n",
      "Epoch 19/20\n",
      "4/4 [==============================] - 15s 4s/step - loss: 1.0799 - accuracy: 0.7125 - val_loss: 1.1104 - val_accuracy: 0.6833\n",
      "Epoch 20/20\n",
      "4/4 [==============================] - 15s 4s/step - loss: 1.0692 - accuracy: 0.7167 - val_loss: 1.0986 - val_accuracy: 0.6833\n"
     ]
    }
   ],
   "source": [
    "history = model.fit(train_dataset, epochs=20, validation_data=val_dataset)"
   ]
  },
  {
   "cell_type": "code",
   "execution_count": 104,
   "metadata": {},
   "outputs": [
    {
     "name": "stdout",
     "output_type": "stream",
     "text": [
      "DP-SGD with sampling rate = 26.7% and noise_multiplier = 1.1 iterated over 75 steps satisfies differential privacy with eps = 14 and delta = 0.0001.\n",
      "The optimal RDP order is 2.25.\n"
     ]
    },
    {
     "data": {
      "text/plain": [
       "(13.96829358497813, 2.25)"
      ]
     },
     "execution_count": 104,
     "metadata": {},
     "output_type": "execute_result"
    }
   ],
   "source": [
    "tensorflow_privacy.compute_dp_sgd_privacy(240, 64, 1.1, 20, 1e-5)"
   ]
  }
 ],
 "metadata": {
  "kernelspec": {
   "display_name": "AI310",
   "language": "python",
   "name": "python3"
  },
  "language_info": {
   "codemirror_mode": {
    "name": "ipython",
    "version": 3
   },
   "file_extension": ".py",
   "mimetype": "text/x-python",
   "name": "python",
   "nbconvert_exporter": "python",
   "pygments_lexer": "ipython3",
   "version": "3.10.10"
  },
  "orig_nbformat": 4
 },
 "nbformat": 4,
 "nbformat_minor": 2
}
