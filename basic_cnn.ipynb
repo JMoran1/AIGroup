{
 "cells": [
  {
   "cell_type": "code",
   "execution_count": 54,
   "metadata": {},
   "outputs": [],
   "source": [
    "import tensorflow as tf\n",
    "import keras\n",
    "import keras_vggface\n",
    "from keras_vggface.vggface import VGGFace\n",
    "# Had to change code in keras vggface to make it work changed model.py line 20 as shown here https://stackoverflow.com/a/71379206\n",
    "import numpy as np\n",
    "import matplotlib as mpl\n",
    "import keras_vggface.utils\n",
    "import PIL\n",
    "import os\n",
    "import os.path\n",
    "import matplotlib.pyplot as plt"
   ]
  },
  {
   "cell_type": "code",
   "execution_count": 55,
   "metadata": {},
   "outputs": [
    {
     "name": "stdout",
     "output_type": "stream",
     "text": [
      "Found 300 files belonging to 4 classes.\n",
      "Using 240 files for training.\n",
      "Found 300 files belonging to 4 classes.\n",
      "Using 60 files for validation.\n"
     ]
    }
   ],
   "source": [
    "train_seed = 30\n",
    "split = 0.2\n",
    "\n",
    "train_dataset = keras.utils.image_dataset_from_directory('./Faces', shuffle=True, image_size=(224, 224), batch_size=64, seed=train_seed, validation_split=split, subset='training')\n",
    "val_dataset = keras.utils.image_dataset_from_directory('./Faces', shuffle=True, image_size=(224, 224), batch_size=64, seed=train_seed, validation_split=split, subset='validation')"
   ]
  },
  {
   "cell_type": "code",
   "execution_count": 56,
   "metadata": {},
   "outputs": [],
   "source": [
    "data_aug = keras.Sequential([\n",
    "    keras.layers.RandomFlip(\"horizontal\"),\n",
    "    keras.layers.RandomRotation(0.2), ])"
   ]
  },
  {
   "cell_type": "code",
   "execution_count": 57,
   "metadata": {},
   "outputs": [
    {
     "ename": "TypeError",
     "evalue": "Rescaling.__init__() missing 1 required positional argument: 'scale'",
     "output_type": "error",
     "traceback": [
      "\u001b[0;31m---------------------------------------------------------------------------\u001b[0m",
      "\u001b[0;31mTypeError\u001b[0m                                 Traceback (most recent call last)",
      "\u001b[1;32m/Users/jacobmoran/Desktop/UNI/Year 3/AI/AIGroup/basic_cnn.ipynb Cell 4\u001b[0m in \u001b[0;36m4\n\u001b[1;32m      <a href='vscode-notebook-cell:/Users/jacobmoran/Desktop/UNI/Year%203/AI/AIGroup/basic_cnn.ipynb#W3sZmlsZQ%3D%3D?line=0'>1</a>\u001b[0m num_classes \u001b[39m=\u001b[39m \u001b[39m4\u001b[39m\n\u001b[1;32m      <a href='vscode-notebook-cell:/Users/jacobmoran/Desktop/UNI/Year%203/AI/AIGroup/basic_cnn.ipynb#W3sZmlsZQ%3D%3D?line=2'>3</a>\u001b[0m model \u001b[39m=\u001b[39m tf\u001b[39m.\u001b[39mkeras\u001b[39m.\u001b[39mmodels\u001b[39m.\u001b[39mSequential([\n\u001b[0;32m----> <a href='vscode-notebook-cell:/Users/jacobmoran/Desktop/UNI/Year%203/AI/AIGroup/basic_cnn.ipynb#W3sZmlsZQ%3D%3D?line=3'>4</a>\u001b[0m   tf\u001b[39m.\u001b[39;49mkeras\u001b[39m.\u001b[39;49mlayers\u001b[39m.\u001b[39;49mRescaling(input_shape\u001b[39m=\u001b[39;49m(\u001b[39m224\u001b[39;49m, \u001b[39m224\u001b[39;49m, \u001b[39m3\u001b[39;49m)),\n\u001b[1;32m      <a href='vscode-notebook-cell:/Users/jacobmoran/Desktop/UNI/Year%203/AI/AIGroup/basic_cnn.ipynb#W3sZmlsZQ%3D%3D?line=4'>5</a>\u001b[0m   tf\u001b[39m.\u001b[39mkeras\u001b[39m.\u001b[39mlayers\u001b[39m.\u001b[39mConv2D(\u001b[39m16\u001b[39m, \u001b[39m3\u001b[39m, padding\u001b[39m=\u001b[39m\u001b[39m'\u001b[39m\u001b[39msame\u001b[39m\u001b[39m'\u001b[39m, activation\u001b[39m=\u001b[39m\u001b[39m'\u001b[39m\u001b[39mrelu\u001b[39m\u001b[39m'\u001b[39m),\n\u001b[1;32m      <a href='vscode-notebook-cell:/Users/jacobmoran/Desktop/UNI/Year%203/AI/AIGroup/basic_cnn.ipynb#W3sZmlsZQ%3D%3D?line=5'>6</a>\u001b[0m   tf\u001b[39m.\u001b[39mkeras\u001b[39m.\u001b[39mlayers\u001b[39m.\u001b[39mFlatten(),\n\u001b[1;32m      <a href='vscode-notebook-cell:/Users/jacobmoran/Desktop/UNI/Year%203/AI/AIGroup/basic_cnn.ipynb#W3sZmlsZQ%3D%3D?line=6'>7</a>\u001b[0m   tf\u001b[39m.\u001b[39mkeras\u001b[39m.\u001b[39mlayers\u001b[39m.\u001b[39mDense(\u001b[39m32\u001b[39m, activation\u001b[39m=\u001b[39m\u001b[39m'\u001b[39m\u001b[39mrelu\u001b[39m\u001b[39m'\u001b[39m),\n\u001b[1;32m      <a href='vscode-notebook-cell:/Users/jacobmoran/Desktop/UNI/Year%203/AI/AIGroup/basic_cnn.ipynb#W3sZmlsZQ%3D%3D?line=7'>8</a>\u001b[0m   tf\u001b[39m.\u001b[39mkeras\u001b[39m.\u001b[39mlayers\u001b[39m.\u001b[39mDense(num_classes)\n\u001b[1;32m      <a href='vscode-notebook-cell:/Users/jacobmoran/Desktop/UNI/Year%203/AI/AIGroup/basic_cnn.ipynb#W3sZmlsZQ%3D%3D?line=8'>9</a>\u001b[0m ])\n",
      "\u001b[0;31mTypeError\u001b[0m: Rescaling.__init__() missing 1 required positional argument: 'scale'"
     ]
    }
   ],
   "source": [
    "num_classes = 4\n",
    "\n",
    "model = tf.keras.models.Sequential([\n",
    "  tf.keras.layers.Rescaling(1./255, input_shape=(224, 224, 3)),\n",
    "  tf.keras.layers.Conv2D(16, 3, padding='same', activation='relu'),\n",
    "  tf.keras.layers.Flatten(),\n",
    "  tf.keras.layers.Dense(32, activation='relu'),\n",
    "  tf.keras.layers.Dense(num_classes)\n",
    "])"
   ]
  },
  {
   "cell_type": "code",
   "execution_count": null,
   "metadata": {},
   "outputs": [],
   "source": [
    "LR = 0.0001\n",
    "model.compile(optimizer=tf.keras.optimizers.Adam(learning_rate=LR),\n",
    "    loss = keras.losses.SparseCategoricalCrossentropy(from_logits=True),\n",
    "    metrics=['accuracy'])"
   ]
  },
  {
   "cell_type": "code",
   "execution_count": 50,
   "metadata": {},
   "outputs": [
    {
     "name": "stdout",
     "output_type": "stream",
     "text": [
      "Epoch 1/20\n"
     ]
    },
    {
     "name": "stderr",
     "output_type": "stream",
     "text": [
      "2023-05-04 10:02:49.115647: I tensorflow/core/grappler/optimizers/custom_graph_optimizer_registry.cc:114] Plugin optimizer for device_type GPU is enabled.\n"
     ]
    },
    {
     "name": "stdout",
     "output_type": "stream",
     "text": [
      "4/4 [==============================] - ETA: 0s - loss: 5.8074 - accuracy: 0.3458"
     ]
    },
    {
     "name": "stderr",
     "output_type": "stream",
     "text": [
      "2023-05-04 10:02:50.757410: I tensorflow/core/grappler/optimizers/custom_graph_optimizer_registry.cc:114] Plugin optimizer for device_type GPU is enabled.\n"
     ]
    },
    {
     "name": "stdout",
     "output_type": "stream",
     "text": [
      "4/4 [==============================] - 3s 505ms/step - loss: 5.8074 - accuracy: 0.3458 - val_loss: 2.9269 - val_accuracy: 0.6500\n",
      "Epoch 2/20\n",
      "4/4 [==============================] - 2s 461ms/step - loss: 2.3954 - accuracy: 0.5458 - val_loss: 0.9853 - val_accuracy: 0.8833\n",
      "Epoch 3/20\n",
      "4/4 [==============================] - 2s 455ms/step - loss: 0.6296 - accuracy: 0.7833 - val_loss: 0.4900 - val_accuracy: 0.7000\n",
      "Epoch 4/20\n",
      "4/4 [==============================] - 2s 459ms/step - loss: 0.4745 - accuracy: 0.7583 - val_loss: 0.5373 - val_accuracy: 0.6667\n",
      "Epoch 5/20\n",
      "4/4 [==============================] - 2s 458ms/step - loss: 0.3869 - accuracy: 0.7917 - val_loss: 0.3843 - val_accuracy: 0.8000\n",
      "Epoch 6/20\n",
      "4/4 [==============================] - 2s 457ms/step - loss: 0.3493 - accuracy: 0.8750 - val_loss: 0.3661 - val_accuracy: 0.8833\n",
      "Epoch 7/20\n",
      "4/4 [==============================] - 2s 456ms/step - loss: 0.2940 - accuracy: 0.9250 - val_loss: 0.3372 - val_accuracy: 0.8500\n",
      "Epoch 8/20\n",
      "4/4 [==============================] - 2s 456ms/step - loss: 0.2621 - accuracy: 0.9000 - val_loss: 0.2750 - val_accuracy: 0.8833\n",
      "Epoch 9/20\n",
      "4/4 [==============================] - 2s 456ms/step - loss: 0.2188 - accuracy: 0.9333 - val_loss: 0.2079 - val_accuracy: 0.9667\n",
      "Epoch 10/20\n",
      "4/4 [==============================] - 2s 456ms/step - loss: 0.1874 - accuracy: 0.9500 - val_loss: 0.2066 - val_accuracy: 0.9000\n",
      "Epoch 11/20\n",
      "4/4 [==============================] - 2s 456ms/step - loss: 0.1742 - accuracy: 0.9292 - val_loss: 0.1944 - val_accuracy: 0.9333\n",
      "Epoch 12/20\n",
      "4/4 [==============================] - 2s 453ms/step - loss: 0.1536 - accuracy: 0.9583 - val_loss: 0.1880 - val_accuracy: 1.0000\n",
      "Epoch 13/20\n",
      "4/4 [==============================] - 2s 456ms/step - loss: 0.1377 - accuracy: 0.9958 - val_loss: 0.1552 - val_accuracy: 1.0000\n",
      "Epoch 14/20\n",
      "4/4 [==============================] - 2s 455ms/step - loss: 0.1204 - accuracy: 0.9917 - val_loss: 0.1428 - val_accuracy: 1.0000\n",
      "Epoch 15/20\n",
      "4/4 [==============================] - 2s 457ms/step - loss: 0.1110 - accuracy: 0.9958 - val_loss: 0.1312 - val_accuracy: 1.0000\n",
      "Epoch 16/20\n",
      "4/4 [==============================] - 2s 456ms/step - loss: 0.0991 - accuracy: 0.9958 - val_loss: 0.1265 - val_accuracy: 1.0000\n",
      "Epoch 17/20\n",
      "4/4 [==============================] - 2s 458ms/step - loss: 0.0918 - accuracy: 0.9958 - val_loss: 0.1155 - val_accuracy: 1.0000\n",
      "Epoch 18/20\n",
      "4/4 [==============================] - 2s 456ms/step - loss: 0.0827 - accuracy: 1.0000 - val_loss: 0.1051 - val_accuracy: 1.0000\n",
      "Epoch 19/20\n",
      "4/4 [==============================] - 2s 455ms/step - loss: 0.0761 - accuracy: 1.0000 - val_loss: 0.0991 - val_accuracy: 1.0000\n",
      "Epoch 20/20\n",
      "4/4 [==============================] - 2s 454ms/step - loss: 0.0708 - accuracy: 1.0000 - val_loss: 0.0954 - val_accuracy: 1.0000\n"
     ]
    }
   ],
   "source": [
    "history = model.fit(train_dataset, epochs=20, validation_data=val_dataset)"
   ]
  },
  {
   "cell_type": "code",
   "execution_count": 51,
   "metadata": {},
   "outputs": [
    {
     "data": {
      "image/png": "[encoded data removed]",
      "text/plain": [
       "<Figure size 640x480 with 1 Axes>"
      ]
     },
     "metadata": {},
     "output_type": "display_data"
    }
   ],
   "source": [
    "plt.plot(history.history['accuracy'], label='accuracy')\n",
    "plt.plot(history.history['val_accuracy'], label='val_accuracy')\n",
    "\n",
    "plt.title(\"Accuracy vs Validation Accuracy\")\n",
    "plt.xlabel(\"Epochs\")\n",
    "plt.ylabel(\"Accuracy\")\n",
    "plt.legend()\n",
    "plt.show()"
   ]
  },
  {
   "cell_type": "code",
   "execution_count": 52,
   "metadata": {},
   "outputs": [],
   "source": [
    "class_labels = ['Elmo', 'Heidi', 'Jacob', 'Unknown']"
   ]
  },
  {
   "cell_type": "code",
   "execution_count": 53,
   "metadata": {},
   "outputs": [
    {
     "name": "stdout",
     "output_type": "stream",
     "text": [
      "WARNING:tensorflow:5 out of the last 11 calls to <function Model.make_predict_function.<locals>.predict_function at 0x2ee028b80> triggered tf.function retracing. Tracing is expensive and the excessive number of tracings could be due to (1) creating @tf.function repeatedly in a loop, (2) passing tensors with different shapes, (3) passing Python objects instead of tensors. For (1), please define your @tf.function outside of the loop. For (2), @tf.function has reduce_retracing=True option that can avoid unnecessary retracing. For (3), please refer to https://www.tensorflow.org/guide/function#controlling_retracing and https://www.tensorflow.org/api_docs/python/tf/function for  more details.\n",
      "1/1 [==============================] - 0s 54ms/step\n",
      "[[ 5.3173885  6.0894823 -4.438844  21.125366 ]]\n",
      "Unknown\n"
     ]
    },
    {
     "name": "stderr",
     "output_type": "stream",
     "text": [
      "2023-05-04 10:04:35.358399: I tensorflow/core/grappler/optimizers/custom_graph_optimizer_registry.cc:114] Plugin optimizer for device_type GPU is enabled.\n"
     ]
    }
   ],
   "source": [
    "import numpy as np\n",
    "from tensorflow.keras.preprocessing import image\n",
    "from tensorflow.keras.applications.imagenet_utils import preprocess_input, decode_predictions\n",
    "\n",
    "def load_and_preprocess_image(img_path, target_size=(224, 224)):\n",
    "    # Load and resize the image\n",
    "    img = image.load_img(img_path, target_size=target_size)\n",
    "    \n",
    "    # Convert the image to a numpy array and normalize the pixel values\n",
    "    img_array = image.img_to_array(img)\n",
    "    img_array = np.expand_dims(img_array, axis=0)\n",
    "    img_array = preprocess_input(img_array)\n",
    "    \n",
    "    return img_array\n",
    "\n",
    "# Replace 'path/to/your/image.jpg' with the actual path to the image you want to predict on\n",
    "# img_path = 'Faces/Jacob/0f2f_Jacob_4.jpg'\n",
    "img_path = 'Faces/Heidi/Heidi16.jpg'\n",
    "# img_path = 'Elmo1.jpg'\n",
    "\n",
    "img_array = load_and_preprocess_image(img_path)\n",
    "\n",
    "# Make a prediction\n",
    "predictions = model.predict(img_array)\n",
    "\n",
    "# Decode the predictions (if necessary, e.g., for classification tasks)\n",
    "# decoded_predictions = decode_predictions(predictions, top=3)[0]\n",
    "\n",
    "# Print the results\n",
    "print(predictions)\n",
    "# Convert the predicted probabilities to class indices\n",
    "predicted_class_index = np.argmax(predictions)\n",
    "\n",
    "# Map the predicted class index to the corresponding class label\n",
    "predicted_class_label = class_labels[predicted_class_index]\n",
    "print(predicted_class_label)\n"
   ]
  },
  {
   "attachments": {},
   "cell_type": "markdown",
   "metadata": {},
   "source": [
    "# Privacy"
   ]
  },
  {
   "cell_type": "code",
   "execution_count": 21,
   "metadata": {},
   "outputs": [],
   "source": [
    "from tensorflow_privacy.privacy.optimizers.dp_optimizer import DPGradientDescentGaussianOptimizer\n",
    "import tensorflow_privacy"
   ]
  },
  {
   "cell_type": "code",
   "execution_count": 22,
   "metadata": {},
   "outputs": [],
   "source": [
    "num_classes = 4\n",
    "\n",
    "model = tf.keras.models.Sequential([\n",
    "  tf.keras.layers.Rescaling(1./255, input_shape=(224, 224, 3)),\n",
    "  tf.keras.layers.Conv2D(32, 3, padding='same', activation='relu'),\n",
    "  tf.keras.layers.MaxPooling2D(),\n",
    "  tf.keras.layers.Conv2D(64, 3, padding='same', activation='relu'),\n",
    "  tf.keras.layers.MaxPooling2D(),\n",
    "  tf.keras.layers.Conv2D(128, 3, padding='same', activation='relu'),\n",
    "  tf.keras.layers.MaxPooling2D(),\n",
    "  tf.keras.layers.Flatten(),\n",
    "  tf.keras.layers.Dense(128, activation='relu'),\n",
    "  tf.keras.layers.Dense(num_classes)\n",
    "])"
   ]
  },
  {
   "cell_type": "code",
   "execution_count": 23,
   "metadata": {},
   "outputs": [],
   "source": [
    "loss = tf.keras.losses.SparseCategoricalCrossentropy(\n",
    "    from_logits=False, reduction=tf.losses.Reduction.NONE)"
   ]
  },
  {
   "cell_type": "code",
   "execution_count": 24,
   "metadata": {},
   "outputs": [],
   "source": [
    "noise_multiplier = 1.1\n",
    "l2_norm_clip = 5\n",
    "num_microbatches = 16\n",
    "learning_rate = 0.0001\n",
    "\n",
    "optimizer = tensorflow_privacy.DPKerasSGDOptimizer(\n",
    "    l2_norm_clip=l2_norm_clip,\n",
    "    noise_multiplier=noise_multiplier,\n",
    "    num_microbatches=num_microbatches,\n",
    "    learning_rate=learning_rate\n",
    ")"
   ]
  },
  {
   "cell_type": "code",
   "execution_count": 26,
   "metadata": {},
   "outputs": [],
   "source": [
    "LR = 0.0001\n",
    "\n",
    "model.compile(optimizer=optimizer,\n",
    "    loss = loss,\n",
    "    metrics=['accuracy'])"
   ]
  },
  {
   "cell_type": "code",
   "execution_count": 27,
   "metadata": {},
   "outputs": [
    {
     "name": "stdout",
     "output_type": "stream",
     "text": [
      "Epoch 1/20\n"
     ]
    },
    {
     "name": "stderr",
     "output_type": "stream",
     "text": [
      "2023-05-03 21:16:14.747750: I tensorflow/core/grappler/optimizers/custom_graph_optimizer_registry.cc:114] Plugin optimizer for device_type GPU is enabled.\n"
     ]
    },
    {
     "name": "stdout",
     "output_type": "stream",
     "text": [
      "8/8 [==============================] - ETA: 0s - loss: 7.9973 - accuracy: 0.2750"
     ]
    },
    {
     "name": "stderr",
     "output_type": "stream",
     "text": [
      "2023-05-03 21:16:39.179112: I tensorflow/core/grappler/optimizers/custom_graph_optimizer_registry.cc:114] Plugin optimizer for device_type GPU is enabled.\n"
     ]
    },
    {
     "name": "stdout",
     "output_type": "stream",
     "text": [
      "8/8 [==============================] - 26s 3s/step - loss: 7.9973 - accuracy: 0.2750 - val_loss: 8.7218 - val_accuracy: 0.2333\n",
      "Epoch 2/20\n",
      "8/8 [==============================] - 23s 3s/step - loss: 6.3346 - accuracy: 0.2583 - val_loss: 6.3169 - val_accuracy: 0.2333\n",
      "Epoch 3/20\n",
      "8/8 [==============================] - 24s 3s/step - loss: 3.7928 - accuracy: 0.2375 - val_loss: 3.3981 - val_accuracy: 0.2500\n",
      "Epoch 4/20\n",
      "8/8 [==============================] - 23s 3s/step - loss: 2.6228 - accuracy: 0.2458 - val_loss: 2.8559 - val_accuracy: 0.2500\n",
      "Epoch 5/20\n",
      "8/8 [==============================] - 24s 3s/step - loss: 2.3668 - accuracy: 0.2417 - val_loss: 2.4483 - val_accuracy: 0.2333\n",
      "Epoch 6/20\n",
      "8/8 [==============================] - 24s 3s/step - loss: 2.2226 - accuracy: 0.2292 - val_loss: 2.1481 - val_accuracy: 0.2500\n",
      "Epoch 7/20\n",
      "8/8 [==============================] - 24s 3s/step - loss: 1.8648 - accuracy: 0.2375 - val_loss: 2.0223 - val_accuracy: 0.2500\n",
      "Epoch 8/20\n",
      "8/8 [==============================] - 23s 3s/step - loss: 1.6865 - accuracy: 0.2625 - val_loss: 1.7911 - val_accuracy: 0.2500\n",
      "Epoch 9/20\n",
      "8/8 [==============================] - 24s 3s/step - loss: 1.7153 - accuracy: 0.2458 - val_loss: 1.5935 - val_accuracy: 0.2167\n",
      "Epoch 10/20\n",
      "8/8 [==============================] - 23s 3s/step - loss: 1.5349 - accuracy: 0.2458 - val_loss: 1.5959 - val_accuracy: 0.2167\n",
      "Epoch 11/20\n",
      "8/8 [==============================] - 23s 3s/step - loss: 1.5685 - accuracy: 0.2500 - val_loss: 1.4818 - val_accuracy: 0.2167\n",
      "Epoch 12/20\n",
      "8/8 [==============================] - 22s 3s/step - loss: 1.5041 - accuracy: 0.2458 - val_loss: 1.4984 - val_accuracy: 0.2167\n",
      "Epoch 13/20\n",
      "8/8 [==============================] - 24s 3s/step - loss: 1.4843 - accuracy: 0.2458 - val_loss: 1.4875 - val_accuracy: 0.2167\n",
      "Epoch 14/20\n",
      "8/8 [==============================] - 23s 3s/step - loss: 1.4546 - accuracy: 0.2583 - val_loss: 1.4630 - val_accuracy: 0.2167\n",
      "Epoch 15/20\n",
      "8/8 [==============================] - 25s 3s/step - loss: 1.5136 - accuracy: 0.2625 - val_loss: 1.3403 - val_accuracy: 0.2167\n",
      "Epoch 16/20\n",
      "8/8 [==============================] - 25s 3s/step - loss: 1.5337 - accuracy: 0.2708 - val_loss: 1.3434 - val_accuracy: 0.2333\n",
      "Epoch 17/20\n",
      "8/8 [==============================] - 23s 3s/step - loss: 1.5806 - accuracy: 0.2708 - val_loss: 1.3434 - val_accuracy: 0.2500\n",
      "Epoch 18/20\n",
      "8/8 [==============================] - 24s 3s/step - loss: 1.5358 - accuracy: 0.2750 - val_loss: 1.3372 - val_accuracy: 0.2500\n",
      "Epoch 19/20\n",
      "8/8 [==============================] - 23s 3s/step - loss: 1.5809 - accuracy: 0.2750 - val_loss: 1.3372 - val_accuracy: 0.2500\n",
      "Epoch 20/20\n",
      "8/8 [==============================] - 24s 3s/step - loss: 1.5314 - accuracy: 0.2750 - val_loss: 1.3372 - val_accuracy: 0.2333\n"
     ]
    }
   ],
   "source": [
    "history = model.fit(train_dataset, epochs=20, validation_data=val_dataset)"
   ]
  }
 ],
 "metadata": {
  "kernelspec": {
   "display_name": "AI310",
   "language": "python",
   "name": "python3"
  },
  "language_info": {
   "codemirror_mode": {
    "name": "ipython",
    "version": 3
   },
   "file_extension": ".py",
   "mimetype": "text/x-python",
   "name": "python",
   "nbconvert_exporter": "python",
   "pygments_lexer": "ipython3",
   "version": "3.10.10"
  },
  "orig_nbformat": 4
 },
 "nbformat": 4,
 "nbformat_minor": 2
}
